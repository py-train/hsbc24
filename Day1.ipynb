{
 "cells": [
  {
   "cell_type": "markdown",
   "id": "44cf5d27-02c6-4009-bace-2fbdb3784bdc",
   "metadata": {},
   "source": [
    "# Day 1"
   ]
  },
  {
   "cell_type": "markdown",
   "id": "08ba40c1-7616-4212-94cc-572eed2fc41f",
   "metadata": {},
   "source": [
    "## Features of Python\n",
    "\n",
    "- Interpreted\n",
    "- Implicitly typed\n",
    "- Dynamic\n",
    "- (Purely) Object-oriented"
   ]
  },
  {
   "cell_type": "markdown",
   "id": "2ba78e54-75dc-4b63-b88c-624bb53d79e8",
   "metadata": {},
   "source": [
    "### Word Cloud\n",
    "\n",
    "- Indentation\n",
    "- Lambda\n",
    "- Library/modules\n",
    "- Tuples/dict/set/list\n",
    "- DS??\n",
    "- pytorch\n",
    "- pyspark\n",
    "- numpy\n",
    "- TF\n",
    "- pandas\n",
    "- matplotlib\n",
    "- sklearn\n",
    "- plotly\n",
    "- datetime\n",
    "- seaborn\n",
    "- django\n",
    "- fastapi\n",
    "- flask\n",
    "- pygame\n",
    "- args, kwargs\n",
    "- __main__, __init__, self\n",
    "- def for while"
   ]
  },
  {
   "cell_type": "markdown",
   "id": "a6658f0a-5de8-4136-a610-9f6253c82866",
   "metadata": {},
   "source": [
    "### Operators\n",
    "\n",
    "- Arithmetic: **, *, /, %, +, -\n",
    "- Comparison: ==, !=, <, >, <=, >=\n",
    "- Logical/Boolean: and, or, not"
   ]
  },
  {
   "cell_type": "code",
   "execution_count": 1,
   "id": "b1b023df-ad00-4f8a-b042-715635c006df",
   "metadata": {},
   "outputs": [
    {
     "data": {
      "text/plain": [
       "5"
      ]
     },
     "execution_count": 1,
     "metadata": {},
     "output_type": "execute_result"
    }
   ],
   "source": [
    "2+3"
   ]
  },
  {
   "cell_type": "code",
   "execution_count": 74,
   "id": "6e5e0bef-e537-491f-a113-79bd8e865c29",
   "metadata": {},
   "outputs": [],
   "source": [
    "price = 123.45\n",
    "# price = 'unspecified'\n",
    "quant = 21\n",
    "verbose = False"
   ]
  },
  {
   "cell_type": "code",
   "execution_count": 3,
   "id": "a6ff5370-eefb-4ce1-ac23-ac4d9596ac63",
   "metadata": {},
   "outputs": [
    {
     "data": {
      "text/plain": [
       "float"
      ]
     },
     "execution_count": 3,
     "metadata": {},
     "output_type": "execute_result"
    }
   ],
   "source": [
    "type(price)"
   ]
  },
  {
   "cell_type": "code",
   "execution_count": 6,
   "id": "680bfbb5-da7b-45f4-948e-3df93e3256ab",
   "metadata": {},
   "outputs": [
    {
     "data": {
      "text/plain": [
       "bool"
      ]
     },
     "execution_count": 6,
     "metadata": {},
     "output_type": "execute_result"
    }
   ],
   "source": [
    "type(verbose)"
   ]
  },
  {
   "cell_type": "code",
   "execution_count": 15,
   "id": "8a71758c-a23a-4522-b213-7b582a974f9f",
   "metadata": {},
   "outputs": [],
   "source": [
    "principle = 2_00_000\n",
    "rate = 17\n",
    "period = 5"
   ]
  },
  {
   "cell_type": "code",
   "execution_count": 8,
   "id": "f8700b00-dfa9-435b-a7b9-bfb6ee7f5457",
   "metadata": {},
   "outputs": [
    {
     "data": {
      "text/plain": [
       "170000.0"
      ]
     },
     "execution_count": 8,
     "metadata": {},
     "output_type": "execute_result"
    }
   ],
   "source": [
    "principle * rate * period / 100"
   ]
  },
  {
   "cell_type": "code",
   "execution_count": 16,
   "id": "a9dbc13e-c3a7-4b42-91ea-68dc8061d9a9",
   "metadata": {},
   "outputs": [],
   "source": [
    "amt = principle * (1 + rate/100) ** period"
   ]
  },
  {
   "cell_type": "code",
   "execution_count": 17,
   "id": "af0ec314-cee3-4137-9986-2ef1367f827b",
   "metadata": {},
   "outputs": [
    {
     "name": "stdout",
     "output_type": "stream",
     "text": [
      "Not quite :(\n"
     ]
    }
   ],
   "source": [
    "if amt >= principle*2:\n",
    "    print('Doubled!')\n",
    "else:\n",
    "    print('Not quite :(')"
   ]
  },
  {
   "cell_type": "markdown",
   "id": "0e92560d-888e-45b5-b7e9-d9b10bdd2c31",
   "metadata": {},
   "source": [
    "## Strings"
   ]
  },
  {
   "cell_type": "code",
   "execution_count": 71,
   "id": "6d5e557c-c9a3-412e-b555-ca511b84254d",
   "metadata": {},
   "outputs": [],
   "source": [
    "name = 'Michaelangelo'\n",
    "address = \"Sistine Chapel\"\n",
    "sentences = 'asdfasdf\\nasdfasdfasd\\nasdfasdfdsa'\n",
    "address = 'Biker\\'s Cafe'\n",
    "address = \"Biker's Cafe\"\n",
    "sentences = '''asdfasdf\n",
    "asdfasdfasd\n",
    "asdfasdfdsa'''\n",
    "email_pattern = r'\\w+@\\w+\\.\\w+'\n",
    "win_path = r'c:\\users\\tablet\\file.txt'"
   ]
  },
  {
   "cell_type": "code",
   "execution_count": 66,
   "id": "3f9f8af8-110f-4d1a-a9b7-6dd14e35dc50",
   "metadata": {},
   "outputs": [
    {
     "name": "stdout",
     "output_type": "stream",
     "text": [
      "asdfasdf\n",
      "asdfasdfasd\n",
      "asdfasdfdsa\n"
     ]
    }
   ],
   "source": [
    "print(sentences)"
   ]
  },
  {
   "cell_type": "code",
   "execution_count": 72,
   "id": "f3272388-8bed-4ac4-811b-b113bfb15d2c",
   "metadata": {},
   "outputs": [
    {
     "name": "stdout",
     "output_type": "stream",
     "text": [
      "c:\\users\\tablet\\file.txt\n"
     ]
    }
   ],
   "source": [
    "print(win_path)"
   ]
  },
  {
   "cell_type": "code",
   "execution_count": 19,
   "id": "36978941-bb63-4f00-bf6e-66d682296c5c",
   "metadata": {},
   "outputs": [
    {
     "data": {
      "text/plain": [
       "str"
      ]
     },
     "execution_count": 19,
     "metadata": {},
     "output_type": "execute_result"
    }
   ],
   "source": [
    "type(name)"
   ]
  },
  {
   "cell_type": "code",
   "execution_count": 20,
   "id": "8c087fca-06e1-4968-82dc-f5619018ac34",
   "metadata": {},
   "outputs": [
    {
     "data": {
      "text/plain": [
       "'MICHAELANGELO'"
      ]
     },
     "execution_count": 20,
     "metadata": {},
     "output_type": "execute_result"
    }
   ],
   "source": [
    "name.upper()      # method\n",
    "name."
   ]
  },
  {
   "cell_type": "code",
   "execution_count": 21,
   "id": "bd504675-4774-412d-afd0-51ff8aa44209",
   "metadata": {},
   "outputs": [
    {
     "data": {
      "text/plain": [
       "['__add__',\n",
       " '__class__',\n",
       " '__contains__',\n",
       " '__delattr__',\n",
       " '__dir__',\n",
       " '__doc__',\n",
       " '__eq__',\n",
       " '__format__',\n",
       " '__ge__',\n",
       " '__getattribute__',\n",
       " '__getitem__',\n",
       " '__getnewargs__',\n",
       " '__getstate__',\n",
       " '__gt__',\n",
       " '__hash__',\n",
       " '__init__',\n",
       " '__init_subclass__',\n",
       " '__iter__',\n",
       " '__le__',\n",
       " '__len__',\n",
       " '__lt__',\n",
       " '__mod__',\n",
       " '__mul__',\n",
       " '__ne__',\n",
       " '__new__',\n",
       " '__reduce__',\n",
       " '__reduce_ex__',\n",
       " '__repr__',\n",
       " '__rmod__',\n",
       " '__rmul__',\n",
       " '__setattr__',\n",
       " '__sizeof__',\n",
       " '__str__',\n",
       " '__subclasshook__',\n",
       " 'capitalize',\n",
       " 'casefold',\n",
       " 'center',\n",
       " 'count',\n",
       " 'encode',\n",
       " 'endswith',\n",
       " 'expandtabs',\n",
       " 'find',\n",
       " 'format',\n",
       " 'format_map',\n",
       " 'index',\n",
       " 'isalnum',\n",
       " 'isalpha',\n",
       " 'isascii',\n",
       " 'isdecimal',\n",
       " 'isdigit',\n",
       " 'isidentifier',\n",
       " 'islower',\n",
       " 'isnumeric',\n",
       " 'isprintable',\n",
       " 'isspace',\n",
       " 'istitle',\n",
       " 'isupper',\n",
       " 'join',\n",
       " 'ljust',\n",
       " 'lower',\n",
       " 'lstrip',\n",
       " 'maketrans',\n",
       " 'partition',\n",
       " 'removeprefix',\n",
       " 'removesuffix',\n",
       " 'replace',\n",
       " 'rfind',\n",
       " 'rindex',\n",
       " 'rjust',\n",
       " 'rpartition',\n",
       " 'rsplit',\n",
       " 'rstrip',\n",
       " 'split',\n",
       " 'splitlines',\n",
       " 'startswith',\n",
       " 'strip',\n",
       " 'swapcase',\n",
       " 'title',\n",
       " 'translate',\n",
       " 'upper',\n",
       " 'zfill']"
      ]
     },
     "execution_count": 21,
     "metadata": {},
     "output_type": "execute_result"
    }
   ],
   "source": [
    "dir(name)"
   ]
  },
  {
   "cell_type": "code",
   "execution_count": 22,
   "id": "41426ef0-52a4-4268-b08c-d4dd813e935c",
   "metadata": {},
   "outputs": [
    {
     "data": {
      "text/plain": [
       "'Michaelangelo'"
      ]
     },
     "execution_count": 22,
     "metadata": {},
     "output_type": "execute_result"
    }
   ],
   "source": [
    "name.capitalize()"
   ]
  },
  {
   "cell_type": "code",
   "execution_count": 23,
   "id": "08180b79-868a-48a0-b833-e5b2ed63f4e8",
   "metadata": {},
   "outputs": [
    {
     "data": {
      "text/plain": [
       "'Laskdjf Lkjhasdf Lkjhadflkh'"
      ]
     },
     "execution_count": 23,
     "metadata": {},
     "output_type": "execute_result"
    }
   ],
   "source": [
    "'laskdjf lkjhasdf lkjhadflkh'.title()"
   ]
  },
  {
   "cell_type": "code",
   "execution_count": 25,
   "id": "7dab580d-9a22-4618-a23c-a4632dc8c0a6",
   "metadata": {},
   "outputs": [
    {
     "data": {
      "text/plain": [
       "''"
      ]
     },
     "execution_count": 25,
     "metadata": {},
     "output_type": "execute_result"
    }
   ],
   "source": [
    "'a'\n",
    "''"
   ]
  },
  {
   "cell_type": "code",
   "execution_count": 26,
   "id": "1ddba380-548d-4839-b14d-71a25dc4fd3b",
   "metadata": {},
   "outputs": [
    {
     "name": "stdout",
     "output_type": "stream",
     "text": [
      "M\n",
      "i\n",
      "c\n",
      "h\n",
      "a\n",
      "e\n",
      "l\n",
      "a\n",
      "n\n",
      "g\n",
      "e\n",
      "l\n",
      "o\n"
     ]
    }
   ],
   "source": [
    "for char in name:\n",
    "    print(char)"
   ]
  },
  {
   "cell_type": "code",
   "execution_count": 27,
   "id": "5475ae7b-01d3-4233-aa90-41200a11319a",
   "metadata": {},
   "outputs": [
    {
     "data": {
      "text/plain": [
       "'M'"
      ]
     },
     "execution_count": 27,
     "metadata": {},
     "output_type": "execute_result"
    }
   ],
   "source": [
    "name[0]"
   ]
  },
  {
   "cell_type": "code",
   "execution_count": 28,
   "id": "68fa27d5-07d2-4b47-83ec-2d8acd994e81",
   "metadata": {},
   "outputs": [
    {
     "data": {
      "text/plain": [
       "13"
      ]
     },
     "execution_count": 28,
     "metadata": {},
     "output_type": "execute_result"
    }
   ],
   "source": [
    "len(name)"
   ]
  },
  {
   "cell_type": "code",
   "execution_count": 31,
   "id": "f360aedf-fff0-4471-bc8c-9c17cbe19f0b",
   "metadata": {},
   "outputs": [
    {
     "data": {
      "text/plain": [
       "'o'"
      ]
     },
     "execution_count": 31,
     "metadata": {},
     "output_type": "execute_result"
    }
   ],
   "source": [
    "name[len(name)-1]\n",
    "name[-1]"
   ]
  },
  {
   "cell_type": "code",
   "execution_count": 32,
   "id": "05e4efba-4199-476a-90a7-07b611a812ee",
   "metadata": {},
   "outputs": [
    {
     "data": {
      "text/plain": [
       "'Michaelangelo'"
      ]
     },
     "execution_count": 32,
     "metadata": {},
     "output_type": "execute_result"
    }
   ],
   "source": [
    "name"
   ]
  },
  {
   "cell_type": "code",
   "execution_count": 36,
   "id": "770f7190-c897-414b-8efa-5c92bf8351b0",
   "metadata": {},
   "outputs": [
    {
     "ename": "IndexError",
     "evalue": "string index out of range",
     "output_type": "error",
     "traceback": [
      "\u001b[0;31m---------------------------------------------------------------------------\u001b[0m",
      "\u001b[0;31mIndexError\u001b[0m                                Traceback (most recent call last)",
      "Cell \u001b[0;32mIn[36], line 1\u001b[0m\n\u001b[0;32m----> 1\u001b[0m name[\u001b[38;5;241m13\u001b[39m]\n",
      "\u001b[0;31mIndexError\u001b[0m: string index out of range"
     ]
    }
   ],
   "source": [
    "name[13]"
   ]
  },
  {
   "cell_type": "markdown",
   "id": "d5b7c4e9-462f-4321-8d11-4c938d22ae6c",
   "metadata": {},
   "source": [
    "### Slices\n",
    "\n",
    "    string [ from : to ]\n",
    "\n",
    "- from: inclusive, default 0\n",
    "- to: non-inclusive, default eos"
   ]
  },
  {
   "cell_type": "code",
   "execution_count": 33,
   "id": "5940a218-068a-4121-8662-9ba3d279a7c9",
   "metadata": {},
   "outputs": [
    {
     "data": {
      "text/plain": [
       "'cha'"
      ]
     },
     "execution_count": 33,
     "metadata": {},
     "output_type": "execute_result"
    }
   ],
   "source": [
    "name[2:5]"
   ]
  },
  {
   "cell_type": "code",
   "execution_count": 37,
   "id": "bb383f47-951b-481b-9600-1ee8e0382447",
   "metadata": {},
   "outputs": [
    {
     "data": {
      "text/plain": [
       "'angelo'"
      ]
     },
     "execution_count": 37,
     "metadata": {},
     "output_type": "execute_result"
    }
   ],
   "source": [
    "name[7:13]\n",
    "name[7:]\n",
    "# name[-6:...]"
   ]
  },
  {
   "cell_type": "code",
   "execution_count": 40,
   "id": "6063964a-68ae-4d07-b98f-cf84ca92497e",
   "metadata": {},
   "outputs": [
    {
     "data": {
      "text/plain": [
       "'Michael'"
      ]
     },
     "execution_count": 40,
     "metadata": {},
     "output_type": "execute_result"
    }
   ],
   "source": [
    "name[:7]"
   ]
  },
  {
   "cell_type": "code",
   "execution_count": 41,
   "id": "1c8e5244-860a-41ba-a549-24712475c734",
   "metadata": {},
   "outputs": [
    {
     "data": {
      "text/plain": [
       "'Michaelangelo'"
      ]
     },
     "execution_count": 41,
     "metadata": {},
     "output_type": "execute_result"
    }
   ],
   "source": [
    "name[:]"
   ]
  },
  {
   "cell_type": "code",
   "execution_count": 42,
   "id": "81394047-35a6-4c3b-85a3-185b1d04e3bf",
   "metadata": {},
   "outputs": [
    {
     "data": {
      "text/plain": [
       "'MICHAEL'"
      ]
     },
     "execution_count": 42,
     "metadata": {},
     "output_type": "execute_result"
    }
   ],
   "source": [
    "name[:7].upper()"
   ]
  },
  {
   "cell_type": "code",
   "execution_count": null,
   "id": "65a3193e-b2f2-4626-b58d-b5a836c43d6e",
   "metadata": {},
   "outputs": [],
   "source": [
    "name.upper()[:7]"
   ]
  },
  {
   "cell_type": "code",
   "execution_count": 44,
   "id": "8179d4df-6182-44fc-b421-304f83e04b6a",
   "metadata": {},
   "outputs": [
    {
     "data": {
      "text/plain": [
       "'Michaelangelo Sistine Chapel'"
      ]
     },
     "execution_count": 44,
     "metadata": {},
     "output_type": "execute_result"
    }
   ],
   "source": [
    "name + ' ' + address"
   ]
  },
  {
   "cell_type": "code",
   "execution_count": 45,
   "id": "804e2ef5-29f6-47ed-9671-a87db6767f8d",
   "metadata": {},
   "outputs": [
    {
     "ename": "TypeError",
     "evalue": "can't multiply sequence by non-int of type 'str'",
     "output_type": "error",
     "traceback": [
      "\u001b[0;31m---------------------------------------------------------------------------\u001b[0m",
      "\u001b[0;31mTypeError\u001b[0m                                 Traceback (most recent call last)",
      "Cell \u001b[0;32mIn[45], line 1\u001b[0m\n\u001b[0;32m----> 1\u001b[0m name \u001b[38;5;241m*\u001b[39m address\n",
      "\u001b[0;31mTypeError\u001b[0m: can't multiply sequence by non-int of type 'str'"
     ]
    }
   ],
   "source": [
    "name * address"
   ]
  },
  {
   "cell_type": "code",
   "execution_count": 46,
   "id": "de189b34-f193-44f1-8678-e279a061008a",
   "metadata": {},
   "outputs": [
    {
     "data": {
      "text/plain": [
       "'MichaelangeloMichaelangeloMichaelangeloMichaelangeloMichaelangelo'"
      ]
     },
     "execution_count": 46,
     "metadata": {},
     "output_type": "execute_result"
    }
   ],
   "source": [
    "name * 5    # repetition operator"
   ]
  },
  {
   "cell_type": "code",
   "execution_count": 49,
   "id": "e4aa0226-7174-4b38-adb2-c0139983f03b",
   "metadata": {},
   "outputs": [
    {
     "data": {
      "text/plain": [
       "'*-*-*-*-*-*-*-*-*-*-*-*-*-*-*-*-*-*-*-*-*-*-*-*-*-'"
      ]
     },
     "execution_count": 49,
     "metadata": {},
     "output_type": "execute_result"
    }
   ],
   "source": [
    "'*-' * 25"
   ]
  },
  {
   "cell_type": "code",
   "execution_count": 50,
   "id": "081934c5-8186-4bb0-8bdb-35005b19ad6c",
   "metadata": {},
   "outputs": [
    {
     "ename": "TypeError",
     "evalue": "unsupported operand type(s) for /: 'str' and 'int'",
     "output_type": "error",
     "traceback": [
      "\u001b[0;31m---------------------------------------------------------------------------\u001b[0m",
      "\u001b[0;31mTypeError\u001b[0m                                 Traceback (most recent call last)",
      "Cell \u001b[0;32mIn[50], line 1\u001b[0m\n\u001b[0;32m----> 1\u001b[0m name \u001b[38;5;241m/\u001b[39m \u001b[38;5;241m5\u001b[39m\n",
      "\u001b[0;31mTypeError\u001b[0m: unsupported operand type(s) for /: 'str' and 'int'"
     ]
    }
   ],
   "source": [
    "name / 5"
   ]
  },
  {
   "cell_type": "code",
   "execution_count": 58,
   "id": "fdd21015-3f45-41af-91f8-a9cb28025bb1",
   "metadata": {},
   "outputs": [],
   "source": [
    "first = 'narendra'\n",
    "middle = 'damodardas'\n",
    "last = 'MODI'"
   ]
  },
  {
   "cell_type": "code",
   "execution_count": 53,
   "id": "8664164d-ad22-413a-9e4c-9aa4d923d62f",
   "metadata": {},
   "outputs": [],
   "source": [
    "first = 'Donald'\n",
    "last = 'TRUMP'"
   ]
  },
  {
   "cell_type": "code",
   "execution_count": 61,
   "id": "15c81212-7f57-43d8-b008-e3324c84164f",
   "metadata": {},
   "outputs": [
    {
     "data": {
      "text/plain": [
       "'Narendra Damodardas Modi'"
      ]
     },
     "execution_count": 61,
     "metadata": {},
     "output_type": "execute_result"
    }
   ],
   "source": [
    "'N.D.Modi'\n",
    "\n",
    "first.capitalize()[0] + middle.capitalize()[0] + last.capitalize()\n",
    "# (first + ' ' + middle + ' ' + last).title().split()\n",
    "first[0].capitalize() + middle[0].capitalize() + last.capitalize()\n"
   ]
  },
  {
   "cell_type": "code",
   "execution_count": null,
   "id": "4a349c48-3019-4b26-860c-dda00a7b0b3f",
   "metadata": {},
   "outputs": [],
   "source": [
    "'Nadi'"
   ]
  },
  {
   "cell_type": "code",
   "execution_count": 56,
   "id": "afe3285c-beec-4b55-b4d4-87cc15d589b8",
   "metadata": {},
   "outputs": [
    {
     "data": {
      "text/plain": [
       "'Domp'"
      ]
     },
     "execution_count": 56,
     "metadata": {},
     "output_type": "execute_result"
    }
   ],
   "source": [
    "first[:2].capitalize() + last[-2:].lower()\n",
    "(first[:2] + last[-2:]).capitalize()"
   ]
  },
  {
   "cell_type": "code",
   "execution_count": 62,
   "id": "3daf93b1-fef2-4518-a6e2-b7b076a72ee0",
   "metadata": {},
   "outputs": [
    {
     "data": {
      "text/plain": [
       "'Narendra'"
      ]
     },
     "execution_count": 62,
     "metadata": {},
     "output_type": "execute_result"
    }
   ],
   "source": [
    "'nARENDRA'.capitalize()"
   ]
  },
  {
   "cell_type": "code",
   "execution_count": 77,
   "id": "af4ab772-144b-46a3-934d-99bda63159a0",
   "metadata": {},
   "outputs": [
    {
     "name": "stdout",
     "output_type": "stream",
     "text": [
      "Customer: Michaelangelo, Price: 123.45 Quantity: 21\n"
     ]
    }
   ],
   "source": [
    "print('Customer: %s, Price: %.2f Quantity: %d' % (name, price, quant))"
   ]
  },
  {
   "cell_type": "code",
   "execution_count": 85,
   "id": "2ad15dcc-15d7-4289-89be-e63fe45c1950",
   "metadata": {},
   "outputs": [
    {
     "data": {
      "text/plain": [
       "'Price: 123.4500 Quantity: 21, Customer:                  Michaelangelo'"
      ]
     },
     "execution_count": 85,
     "metadata": {},
     "output_type": "execute_result"
    }
   ],
   "source": [
    "'Price: {1:.4f} Quantity: {2}, Customer: {0:>30s}'.format(name, price, quant)"
   ]
  },
  {
   "cell_type": "code",
   "execution_count": 84,
   "id": "41457e89-980e-4c64-94b0-1addac8b8a7c",
   "metadata": {},
   "outputs": [
    {
     "data": {
      "text/plain": [
       "'Customer:                  Michaelangelo, Price: 123.45 Quantity: 21'"
      ]
     },
     "execution_count": 84,
     "metadata": {},
     "output_type": "execute_result"
    }
   ],
   "source": [
    "f'Price: {price} Quantity: {quant}, Customer: {name:>30s}'"
   ]
  },
  {
   "cell_type": "code",
   "execution_count": 86,
   "id": "fa44bb1f-3a4c-4bda-8565-e6a5c501a6ee",
   "metadata": {},
   "outputs": [
    {
     "name": "stdout",
     "output_type": "stream",
     "text": [
      "Help on method_descriptor:\n",
      "\n",
      "split(self, /, sep=None, maxsplit=-1)\n",
      "    Return a list of the substrings in the string, using sep as the separator string.\n",
      "    \n",
      "      sep\n",
      "        The separator used to split the string.\n",
      "    \n",
      "        When set to None (the default value), will split on any whitespace\n",
      "        character (including \\\\n \\\\r \\\\t \\\\f and spaces) and will discard\n",
      "        empty strings from the result.\n",
      "      maxsplit\n",
      "        Maximum number of splits (starting from the left).\n",
      "        -1 (the default value) means no limit.\n",
      "    \n",
      "    Note, str.split() is mainly useful for data that has been intentionally\n",
      "    delimited.  With natural text that includes punctuation, consider using\n",
      "    the regular expression module.\n",
      "\n"
     ]
    }
   ],
   "source": [
    "help(str.split)"
   ]
  },
  {
   "cell_type": "code",
   "execution_count": 88,
   "id": "fb32c86a-a07a-4fdf-94b1-6d6d53f81230",
   "metadata": {},
   "outputs": [
    {
     "data": {
      "text/plain": [
       "[\"Biker's\", 'Cafe']"
      ]
     },
     "execution_count": 88,
     "metadata": {},
     "output_type": "execute_result"
    }
   ],
   "source": [
    "address.split()"
   ]
  },
  {
   "cell_type": "code",
   "execution_count": 90,
   "id": "b8657edf-8b8a-4f2a-84be-c724439a92bd",
   "metadata": {},
   "outputs": [],
   "source": [
    "names = 'jai viru thakur'.split()"
   ]
  },
  {
   "cell_type": "code",
   "execution_count": 91,
   "id": "65acfb2c-ef3e-435e-88ab-53dc80b7c3c8",
   "metadata": {},
   "outputs": [
    {
     "data": {
      "text/plain": [
       "['jai', 'viru', 'thakur']"
      ]
     },
     "execution_count": 91,
     "metadata": {},
     "output_type": "execute_result"
    }
   ],
   "source": [
    "names"
   ]
  },
  {
   "cell_type": "code",
   "execution_count": 93,
   "id": "5bd09f55-c412-4893-bfb6-04c110241fc2",
   "metadata": {},
   "outputs": [
    {
     "data": {
      "text/plain": [
       "list"
      ]
     },
     "execution_count": 93,
     "metadata": {},
     "output_type": "execute_result"
    }
   ],
   "source": [
    "type(names)"
   ]
  },
  {
   "cell_type": "code",
   "execution_count": 94,
   "id": "0c5a1be8-77de-49b7-ab7a-4f5d24f8f822",
   "metadata": {},
   "outputs": [
    {
     "ename": "AttributeError",
     "evalue": "'list' object has no attribute 'upper'",
     "output_type": "error",
     "traceback": [
      "\u001b[0;31m---------------------------------------------------------------------------\u001b[0m",
      "\u001b[0;31mAttributeError\u001b[0m                            Traceback (most recent call last)",
      "Cell \u001b[0;32mIn[94], line 1\u001b[0m\n\u001b[0;32m----> 1\u001b[0m address\u001b[38;5;241m.\u001b[39msplit()\u001b[38;5;241m.\u001b[39mupper()\n",
      "\u001b[0;31mAttributeError\u001b[0m: 'list' object has no attribute 'upper'"
     ]
    }
   ],
   "source": [
    "address.split().upper()"
   ]
  },
  {
   "cell_type": "code",
   "execution_count": null,
   "id": "d9be3c24-dd1e-4d23-b846-bb89637556ee",
   "metadata": {},
   "outputs": [],
   "source": [
    "for name in 'jai viru thakur'.split():\n",
    "    print(name)"
   ]
  },
  {
   "cell_type": "code",
   "execution_count": 96,
   "id": "c2b4b3e3-c535-4fe8-a4ba-4f1a08f641d8",
   "metadata": {},
   "outputs": [
    {
     "data": {
      "text/plain": [
       "'jai:viru:thakur'"
      ]
     },
     "execution_count": 96,
     "metadata": {},
     "output_type": "execute_result"
    }
   ],
   "source": [
    "':'.join(names)"
   ]
  },
  {
   "cell_type": "code",
   "execution_count": 97,
   "id": "8902c40d-dcfd-4d9f-9f7a-1dd5a5c11e56",
   "metadata": {},
   "outputs": [
    {
     "data": {
      "text/plain": [
       "'jai - viru - thakur'"
      ]
     },
     "execution_count": 97,
     "metadata": {},
     "output_type": "execute_result"
    }
   ],
   "source": [
    "' - '.join(names)"
   ]
  },
  {
   "cell_type": "code",
   "execution_count": 98,
   "id": "364321d9-c802-43b1-9b5d-9151c729d147",
   "metadata": {},
   "outputs": [
    {
     "data": {
      "text/plain": [
       "'a:b:c:d:e:f'"
      ]
     },
     "execution_count": 98,
     "metadata": {},
     "output_type": "execute_result"
    }
   ],
   "source": [
    "':'.join('abcdef')"
   ]
  },
  {
   "cell_type": "code",
   "execution_count": 99,
   "id": "0fa2283c-6208-43c8-bc3b-8941060f0883",
   "metadata": {},
   "outputs": [
    {
     "data": {
      "text/plain": [
       "['tom:dick:harry']"
      ]
     },
     "execution_count": 99,
     "metadata": {},
     "output_type": "execute_result"
    }
   ],
   "source": [
    "'tom:dick:harry'.split()"
   ]
  },
  {
   "cell_type": "code",
   "execution_count": 100,
   "id": "a1be7da5-765d-4484-bf22-0416a5c1dd21",
   "metadata": {},
   "outputs": [
    {
     "data": {
      "text/plain": [
       "['tom', 'dick', 'harry']"
      ]
     },
     "execution_count": 100,
     "metadata": {},
     "output_type": "execute_result"
    }
   ],
   "source": [
    "'tom:dick:harry'.split(':')"
   ]
  },
  {
   "cell_type": "code",
   "execution_count": 104,
   "id": "cc41df53-fcfc-4157-9492-0841ee077084",
   "metadata": {},
   "outputs": [
    {
     "data": {
      "text/plain": [
       "'jai:viru:basanti'"
      ]
     },
     "execution_count": 104,
     "metadata": {},
     "output_type": "execute_result"
    }
   ],
   "source": [
    "sholay = 'jai viru basanti'\n",
    "':'.join(sholay.split())"
   ]
  },
  {
   "cell_type": "markdown",
   "id": "11bb1e0b-7b57-443f-8a19-4064f3f951ec",
   "metadata": {},
   "source": [
    "## Lists\n",
    "\n",
    "    Sequence of elements\n",
    "\n",
    "- Heterogenous\n",
    "- Dynamically sized"
   ]
  },
  {
   "cell_type": "code",
   "execution_count": 109,
   "id": "2fe920ba-e1f6-43d6-a3cb-a4d6220ef4fd",
   "metadata": {},
   "outputs": [],
   "source": [
    "nums = [1,2,3,4]\n",
    "words = ['morning', 'evening', 'night']\n",
    "misc = [1, 4.2, False, 'done']\n",
    "biglist = [[nums, misc], words]"
   ]
  },
  {
   "cell_type": "code",
   "execution_count": 108,
   "id": "a789b9f7-4a09-44ea-b02f-e8ac50955732",
   "metadata": {},
   "outputs": [
    {
     "data": {
      "text/plain": [
       "list"
      ]
     },
     "execution_count": 108,
     "metadata": {},
     "output_type": "execute_result"
    }
   ],
   "source": [
    "type(nums)\n",
    "type(misc)"
   ]
  },
  {
   "cell_type": "code",
   "execution_count": 111,
   "id": "6af5cace-f2c5-4c18-9104-fadd4536675b",
   "metadata": {},
   "outputs": [
    {
     "data": {
      "text/plain": [
       "[1, 4.2]"
      ]
     },
     "execution_count": 111,
     "metadata": {},
     "output_type": "execute_result"
    }
   ],
   "source": [
    "nums[0]\n",
    "misc[:2]"
   ]
  },
  {
   "cell_type": "code",
   "execution_count": 112,
   "id": "1d494f8a-8d7e-4ce6-a327-a4ecce07f573",
   "metadata": {},
   "outputs": [
    {
     "data": {
      "text/plain": [
       "2"
      ]
     },
     "execution_count": 112,
     "metadata": {},
     "output_type": "execute_result"
    }
   ],
   "source": [
    "len(biglist)"
   ]
  },
  {
   "cell_type": "code",
   "execution_count": 113,
   "id": "27b9fddf-1ee2-4231-b024-f9f82037ba65",
   "metadata": {},
   "outputs": [
    {
     "data": {
      "text/plain": [
       "['morning', 'evening', 'night']"
      ]
     },
     "execution_count": 113,
     "metadata": {},
     "output_type": "execute_result"
    }
   ],
   "source": [
    "biglist[-1]"
   ]
  },
  {
   "cell_type": "code",
   "execution_count": 114,
   "id": "ee993091-0ea5-42c6-82c1-403953049408",
   "metadata": {},
   "outputs": [
    {
     "data": {
      "text/plain": [
       "4"
      ]
     },
     "execution_count": 114,
     "metadata": {},
     "output_type": "execute_result"
    }
   ],
   "source": [
    "biglist[0][0][-1]"
   ]
  },
  {
   "cell_type": "code",
   "execution_count": 118,
   "id": "74e43fc0-751c-43a2-9c99-9c202a009360",
   "metadata": {},
   "outputs": [
    {
     "data": {
      "text/plain": [
       "'e'"
      ]
     },
     "execution_count": 118,
     "metadata": {},
     "output_type": "execute_result"
    }
   ],
   "source": [
    "biglist[0][-1][-1][-1]"
   ]
  },
  {
   "cell_type": "code",
   "execution_count": 119,
   "id": "084e7f80-e2fd-4d79-8bfd-88e581fd126d",
   "metadata": {},
   "outputs": [
    {
     "data": {
      "text/plain": [
       "274877906944"
      ]
     },
     "execution_count": 119,
     "metadata": {},
     "output_type": "execute_result"
    }
   ],
   "source": [
    "2**38"
   ]
  },
  {
   "cell_type": "code",
   "execution_count": 120,
   "id": "ee14977a-b5ae-4bf0-9c5b-fdedc68f6779",
   "metadata": {},
   "outputs": [],
   "source": [
    "crypt = '''g fmnc wms bgblr rpylqjyrc gr zw fylb. rfyrq ufyr amknsrcpq ypc dmp. bmgle gr gl zw fylb gq glcddgagclr ylb rfyr'q ufw rfgq rcvr gq qm jmle. sqgle qrpgle.kyicrpylq() gq pcamkkclbcb. lmu ynnjw ml rfc spj.'''"
   ]
  },
  {
   "cell_type": "code",
   "execution_count": 127,
   "id": "efd878d5-1f5f-4d9a-ab6a-b98fdffd32c7",
   "metadata": {},
   "outputs": [
    {
     "name": "stdout",
     "output_type": "stream",
     "text": [
      "i\"hope\"you\"didnt\"tr{nsl{te\"it\"|y\"h{nd0\"th{ts\"wh{t\"computers\"{re\"for0\"doing\"it\"in\"|y\"h{nd\"is\"inefficient\"{nd\"th{t)s\"why\"this\"text\"is\"so\"long0\"using\"string0m{ketr{ns*+\"is\"recommended0\"now\"{pply\"on\"the\"url0"
     ]
    }
   ],
   "source": [
    "for char in crypt:\n",
    "    print(chr(ord(char)+2), end='')"
   ]
  },
  {
   "cell_type": "code",
   "execution_count": 125,
   "id": "5ec6e41b-c144-4ffa-b971-a213cfe50744",
   "metadata": {},
   "outputs": [
    {
     "data": {
      "text/plain": [
       "'C'"
      ]
     },
     "execution_count": 125,
     "metadata": {},
     "output_type": "execute_result"
    }
   ],
   "source": [
    "# ord('a')\n",
    "chr(ord('A')+2)"
   ]
  },
  {
   "cell_type": "code",
   "execution_count": 128,
   "id": "43de32d8-a7e8-46d9-ae34-5eba7ad1ccbb",
   "metadata": {},
   "outputs": [
    {
     "name": "stdout",
     "output_type": "stream",
     "text": [
      "ocr"
     ]
    }
   ],
   "source": [
    "url = 'map'\n",
    "for char in url:\n",
    "    print(chr(ord(char)+2), end='')"
   ]
  },
  {
   "cell_type": "code",
   "execution_count": 129,
   "id": "81bba019-0afd-46f1-b6e7-7afc3cafec70",
   "metadata": {},
   "outputs": [],
   "source": [
    "nums = [1,2,3,4,5]"
   ]
  },
  {
   "cell_type": "code",
   "execution_count": 131,
   "id": "9bc1e5b6-c1dd-4643-ab86-eb8bf3424737",
   "metadata": {},
   "outputs": [
    {
     "name": "stdout",
     "output_type": "stream",
     "text": [
      "0\n",
      "1\n",
      "2\n",
      "3\n",
      "4\n",
      "5\n",
      "6\n",
      "7\n",
      "8\n",
      "9\n"
     ]
    }
   ],
   "source": [
    "for num in range(10):\n",
    "    print(num)"
   ]
  },
  {
   "cell_type": "code",
   "execution_count": 134,
   "id": "380f1c51-65d5-4957-a8c9-3a14d14e418c",
   "metadata": {},
   "outputs": [
    {
     "data": {
      "text/plain": [
       "[0, 1, 2, 3, 4, 5, 6, 7, 8, 9]"
      ]
     },
     "execution_count": 134,
     "metadata": {},
     "output_type": "execute_result"
    }
   ],
   "source": [
    "nums = list(range(10))\n",
    "nums"
   ]
  },
  {
   "cell_type": "code",
   "execution_count": 135,
   "id": "fc7b2c59-dbb5-4c05-a290-892f9d3590b7",
   "metadata": {},
   "outputs": [],
   "source": [
    "nums.append(100)"
   ]
  },
  {
   "cell_type": "code",
   "execution_count": 136,
   "id": "41604c1d-588d-4cc8-a385-e16017b74613",
   "metadata": {},
   "outputs": [
    {
     "data": {
      "text/plain": [
       "[0, 1, 2, 3, 4, 5, 6, 7, 8, 9, 100]"
      ]
     },
     "execution_count": 136,
     "metadata": {},
     "output_type": "execute_result"
    }
   ],
   "source": [
    "nums"
   ]
  },
  {
   "cell_type": "code",
   "execution_count": 137,
   "id": "154eb722-69ea-44e5-b204-4c6c80aaf7ab",
   "metadata": {},
   "outputs": [
    {
     "data": {
      "text/plain": [
       "'MICHAELANGELO'"
      ]
     },
     "execution_count": 137,
     "metadata": {},
     "output_type": "execute_result"
    }
   ],
   "source": [
    "name.upper()"
   ]
  },
  {
   "cell_type": "code",
   "execution_count": 138,
   "id": "2fa98fcb-cd2f-4003-b73d-c53d80107fbb",
   "metadata": {},
   "outputs": [
    {
     "data": {
      "text/plain": [
       "'Michaelangelo'"
      ]
     },
     "execution_count": 138,
     "metadata": {},
     "output_type": "execute_result"
    }
   ],
   "source": [
    "name = name.upper()"
   ]
  },
  {
   "cell_type": "code",
   "execution_count": 139,
   "id": "686dbb49-992d-45c7-8953-6f1e91735d38",
   "metadata": {},
   "outputs": [
    {
     "data": {
      "text/plain": [
       "100"
      ]
     },
     "execution_count": 139,
     "metadata": {},
     "output_type": "execute_result"
    }
   ],
   "source": [
    "nums.pop()"
   ]
  },
  {
   "cell_type": "code",
   "execution_count": 140,
   "id": "252debfc-aa9f-4c36-bf90-1e6f636bcefa",
   "metadata": {},
   "outputs": [
    {
     "data": {
      "text/plain": [
       "[0, 1, 2, 3, 4, 5, 6, 7, 8, 9]"
      ]
     },
     "execution_count": 140,
     "metadata": {},
     "output_type": "execute_result"
    }
   ],
   "source": [
    "nums"
   ]
  },
  {
   "cell_type": "code",
   "execution_count": 141,
   "id": "be4933d2-f017-416d-bc07-8b900876e250",
   "metadata": {},
   "outputs": [
    {
     "data": {
      "text/plain": [
       "0"
      ]
     },
     "execution_count": 141,
     "metadata": {},
     "output_type": "execute_result"
    }
   ],
   "source": [
    "first = nums.pop(0)\n",
    "first"
   ]
  },
  {
   "cell_type": "code",
   "execution_count": 142,
   "id": "a8fcb960-880c-4d08-8ba3-71b3013c21c3",
   "metadata": {},
   "outputs": [
    {
     "data": {
      "text/plain": [
       "[1, 2, 3, 4, 5, 6, 7, 8, 9]"
      ]
     },
     "execution_count": 142,
     "metadata": {},
     "output_type": "execute_result"
    }
   ],
   "source": [
    "nums"
   ]
  },
  {
   "cell_type": "code",
   "execution_count": 143,
   "id": "71ae0043-39f3-440d-b7d7-56032ff6d843",
   "metadata": {},
   "outputs": [
    {
     "data": {
      "text/plain": [
       "[100, 1, 2, 3, 4, 5, 6, 7, 8, 9]"
      ]
     },
     "execution_count": 143,
     "metadata": {},
     "output_type": "execute_result"
    }
   ],
   "source": [
    "nums.insert(0, 100)\n",
    "nums"
   ]
  },
  {
   "cell_type": "code",
   "execution_count": 144,
   "id": "5c0e4a06-f9b8-4b6e-b5f0-38d5877277e2",
   "metadata": {},
   "outputs": [
    {
     "data": {
      "text/plain": [
       "[100, 1, 2, 3, 4, 5, 6, 7, 8, 9, 10, 20, 30]"
      ]
     },
     "execution_count": 144,
     "metadata": {},
     "output_type": "execute_result"
    }
   ],
   "source": [
    "nums.extend([10,20,30])\n",
    "nums"
   ]
  },
  {
   "cell_type": "code",
   "execution_count": 145,
   "id": "4f1f9d77-88c8-4997-ae2d-65b9d30ba8d4",
   "metadata": {},
   "outputs": [],
   "source": [
    "nums.remove(10)"
   ]
  },
  {
   "cell_type": "code",
   "execution_count": 146,
   "id": "f3123371-5ebb-4149-98b1-697ec378a3da",
   "metadata": {},
   "outputs": [
    {
     "data": {
      "text/plain": [
       "[100, 1, 2, 3, 4, 5, 6, 7, 8, 9, 20, 30]"
      ]
     },
     "execution_count": 146,
     "metadata": {},
     "output_type": "execute_result"
    }
   ],
   "source": [
    "nums"
   ]
  },
  {
   "cell_type": "code",
   "execution_count": 147,
   "id": "931f23e5-b7d8-448f-8ab9-72331a80e6f2",
   "metadata": {},
   "outputs": [
    {
     "data": {
      "text/plain": [
       "10"
      ]
     },
     "execution_count": 147,
     "metadata": {},
     "output_type": "execute_result"
    }
   ],
   "source": [
    "nums.index(20)"
   ]
  },
  {
   "cell_type": "code",
   "execution_count": 148,
   "id": "10839257-229a-4212-a78c-26a6f6891f77",
   "metadata": {},
   "outputs": [
    {
     "ename": "ValueError",
     "evalue": "10 is not in list",
     "output_type": "error",
     "traceback": [
      "\u001b[0;31m---------------------------------------------------------------------------\u001b[0m",
      "\u001b[0;31mValueError\u001b[0m                                Traceback (most recent call last)",
      "Cell \u001b[0;32mIn[148], line 1\u001b[0m\n\u001b[0;32m----> 1\u001b[0m nums\u001b[38;5;241m.\u001b[39mindex(\u001b[38;5;241m10\u001b[39m)\n",
      "\u001b[0;31mValueError\u001b[0m: 10 is not in list"
     ]
    }
   ],
   "source": [
    "nums.index(10)"
   ]
  },
  {
   "cell_type": "code",
   "execution_count": 149,
   "id": "a46a9bc9-d528-4c85-92e1-5833adb45b2c",
   "metadata": {},
   "outputs": [
    {
     "data": {
      "text/plain": [
       "0"
      ]
     },
     "execution_count": 149,
     "metadata": {},
     "output_type": "execute_result"
    }
   ],
   "source": [
    "nums.count(10)"
   ]
  },
  {
   "cell_type": "code",
   "execution_count": 151,
   "id": "087566da-bfc6-4499-942f-c5ea08d9771a",
   "metadata": {},
   "outputs": [],
   "source": [
    "nums.sort()"
   ]
  },
  {
   "cell_type": "code",
   "execution_count": 152,
   "id": "90673a9c-bab4-4218-8062-ad540c9c8e7d",
   "metadata": {},
   "outputs": [
    {
     "data": {
      "text/plain": [
       "[1, 2, 3, 4, 5, 6, 7, 8, 9, 20, 30, 100]"
      ]
     },
     "execution_count": 152,
     "metadata": {},
     "output_type": "execute_result"
    }
   ],
   "source": [
    "nums"
   ]
  },
  {
   "cell_type": "code",
   "execution_count": 153,
   "id": "1237a4af-7812-444f-8dea-7dd608632b5e",
   "metadata": {},
   "outputs": [
    {
     "ename": "TypeError",
     "evalue": "'NoneType' object is not iterable",
     "output_type": "error",
     "traceback": [
      "\u001b[0;31m---------------------------------------------------------------------------\u001b[0m",
      "\u001b[0;31mTypeError\u001b[0m                                 Traceback (most recent call last)",
      "Cell \u001b[0;32mIn[153], line 1\u001b[0m\n\u001b[0;32m----> 1\u001b[0m \u001b[38;5;28;01mfor\u001b[39;00m num \u001b[38;5;129;01min\u001b[39;00m nums\u001b[38;5;241m.\u001b[39msort():\n\u001b[1;32m      2\u001b[0m     \u001b[38;5;28mprint\u001b[39m(num)\n",
      "\u001b[0;31mTypeError\u001b[0m: 'NoneType' object is not iterable"
     ]
    }
   ],
   "source": [
    "for num in nums.sort():\n",
    "    print(num)"
   ]
  },
  {
   "cell_type": "code",
   "execution_count": 155,
   "id": "50902a99-f47d-491d-9cae-9312370fff2f",
   "metadata": {},
   "outputs": [
    {
     "data": {
      "text/plain": [
       "NoneType"
      ]
     },
     "execution_count": 155,
     "metadata": {},
     "output_type": "execute_result"
    }
   ],
   "source": [
    "type(None)"
   ]
  },
  {
   "cell_type": "code",
   "execution_count": 156,
   "id": "ab02c22b-e7c1-4986-968e-bb42bd7611a2",
   "metadata": {},
   "outputs": [
    {
     "name": "stdout",
     "output_type": "stream",
     "text": [
      "1\n",
      "2\n",
      "3\n",
      "4\n",
      "5\n",
      "6\n",
      "7\n",
      "8\n",
      "9\n",
      "20\n",
      "30\n",
      "100\n"
     ]
    }
   ],
   "source": [
    "nums.sort()\n",
    "for num in nums:\n",
    "    print(num)"
   ]
  },
  {
   "cell_type": "code",
   "execution_count": 157,
   "id": "f0574cc2-3640-46b8-9493-9eca5f05d15f",
   "metadata": {},
   "outputs": [
    {
     "name": "stdout",
     "output_type": "stream",
     "text": [
      "1\n",
      "2\n",
      "3\n",
      "4\n",
      "5\n",
      "6\n",
      "7\n",
      "8\n",
      "9\n",
      "20\n",
      "30\n",
      "100\n"
     ]
    }
   ],
   "source": [
    "for num in sorted(nums):\n",
    "    print(num)"
   ]
  },
  {
   "cell_type": "code",
   "execution_count": 158,
   "id": "8d3538fc-6bc7-4a78-86c9-28300e6eda72",
   "metadata": {},
   "outputs": [
    {
     "data": {
      "text/plain": [
       "[]"
      ]
     },
     "execution_count": 158,
     "metadata": {},
     "output_type": "execute_result"
    }
   ],
   "source": [
    "nums.clear()\n",
    "nums"
   ]
  },
  {
   "cell_type": "code",
   "execution_count": null,
   "id": "99ab47d2-08f4-4ed7-8b2e-1d51f0036f89",
   "metadata": {},
   "outputs": [],
   "source": [
    "squares = [100, 121, 144, 169, ...  400]"
   ]
  },
  {
   "cell_type": "code",
   "execution_count": 160,
   "id": "cf92aea5-0d05-4c1c-a98b-628d976fb1aa",
   "metadata": {},
   "outputs": [],
   "source": [
    "squares = list()\n",
    "for num in range(10,21):\n",
    "    squares.append(num**2)"
   ]
  },
  {
   "cell_type": "code",
   "execution_count": 159,
   "id": "05ae2ba2-113a-4efc-b0fa-d49fc96adaf6",
   "metadata": {},
   "outputs": [
    {
     "data": {
      "text/plain": [
       "0"
      ]
     },
     "execution_count": 159,
     "metadata": {},
     "output_type": "execute_result"
    }
   ],
   "source": [
    "int()"
   ]
  },
  {
   "cell_type": "code",
   "execution_count": 161,
   "id": "3d9e2cb6-9f5b-42f9-bc33-653f5a6d52f6",
   "metadata": {},
   "outputs": [
    {
     "data": {
      "text/plain": [
       "[100, 121, 144, 169, 196, 225, 256, 289, 324, 361, 400]"
      ]
     },
     "execution_count": 161,
     "metadata": {},
     "output_type": "execute_result"
    }
   ],
   "source": [
    "squares"
   ]
  },
  {
   "cell_type": "code",
   "execution_count": 164,
   "id": "1734139a-d614-4ff5-9d94-0ca3cbe15e0c",
   "metadata": {},
   "outputs": [
    {
     "ename": "ValueError",
     "evalue": "substring not found",
     "output_type": "error",
     "traceback": [
      "\u001b[0;31m---------------------------------------------------------------------------\u001b[0m",
      "\u001b[0;31mValueError\u001b[0m                                Traceback (most recent call last)",
      "Cell \u001b[0;32mIn[164], line 2\u001b[0m\n\u001b[1;32m      1\u001b[0m name\u001b[38;5;241m.\u001b[39mindex(\u001b[38;5;124m'\u001b[39m\u001b[38;5;124ma\u001b[39m\u001b[38;5;124m'\u001b[39m)\n\u001b[0;32m----> 2\u001b[0m name\u001b[38;5;241m.\u001b[39mindex(\u001b[38;5;124m'\u001b[39m\u001b[38;5;124mz\u001b[39m\u001b[38;5;124m'\u001b[39m)\n",
      "\u001b[0;31mValueError\u001b[0m: substring not found"
     ]
    }
   ],
   "source": [
    "name.index('a')\n",
    "name.index('z')"
   ]
  },
  {
   "cell_type": "code",
   "execution_count": 165,
   "id": "da69a638-df2f-4179-be45-36df178ecf06",
   "metadata": {},
   "outputs": [
    {
     "data": {
      "text/plain": [
       "-1"
      ]
     },
     "execution_count": 165,
     "metadata": {},
     "output_type": "execute_result"
    }
   ],
   "source": [
    "name.find('z')"
   ]
  },
  {
   "cell_type": "code",
   "execution_count": 169,
   "id": "1baa265d-ad02-4666-a840-c9fb200d6721",
   "metadata": {},
   "outputs": [
    {
     "data": {
      "text/plain": [
       "True"
      ]
     },
     "execution_count": 169,
     "metadata": {},
     "output_type": "execute_result"
    }
   ],
   "source": [
    "name.endswith('gelo') and name.lower().startswith('mic')"
   ]
  },
  {
   "cell_type": "code",
   "execution_count": 168,
   "id": "4ae801c8-ce9f-43fa-8d60-7d8d9c7f1326",
   "metadata": {},
   "outputs": [
    {
     "data": {
      "text/plain": [
       "'Michaelangelo'"
      ]
     },
     "execution_count": 168,
     "metadata": {},
     "output_type": "execute_result"
    }
   ],
   "source": [
    "name"
   ]
  },
  {
   "cell_type": "code",
   "execution_count": 174,
   "id": "d53e55b3-44f7-47fe-acee-0dc288cabe53",
   "metadata": {},
   "outputs": [
    {
     "name": "stdin",
     "output_type": "stream",
     "text": [
      "Enter number:  123\n"
     ]
    },
    {
     "data": {
      "text/plain": [
       "123"
      ]
     },
     "execution_count": 174,
     "metadata": {},
     "output_type": "execute_result"
    }
   ],
   "source": [
    "num = input('Enter number: ')\n",
    "if num.isdigit():\n",
    "    num = int(num)\n",
    "else:\n",
    "    print('Number expected')\n",
    "num"
   ]
  },
  {
   "cell_type": "code",
   "execution_count": 177,
   "id": "0bdba3b6-e573-4186-a4db-971ec3487d2d",
   "metadata": {},
   "outputs": [],
   "source": [
    "sentence = '   .  .  the   quick brown    fox   .   '"
   ]
  },
  {
   "cell_type": "code",
   "execution_count": 179,
   "id": "c270f035-0e06-410c-b5d6-20cc01437f99",
   "metadata": {},
   "outputs": [
    {
     "data": {
      "text/plain": [
       "'the   quick brown    fox'"
      ]
     },
     "execution_count": 179,
     "metadata": {},
     "output_type": "execute_result"
    }
   ],
   "source": [
    "sentence.strip(\" .\")"
   ]
  },
  {
   "cell_type": "code",
   "execution_count": 180,
   "id": "6abf27d4-e161-4066-a7c0-63647c4f350b",
   "metadata": {},
   "outputs": [
    {
     "data": {
      "text/plain": [
       "True"
      ]
     },
     "execution_count": 180,
     "metadata": {},
     "output_type": "execute_result"
    }
   ],
   "source": [
    "'gel' in name"
   ]
  },
  {
   "cell_type": "code",
   "execution_count": 181,
   "id": "1e1ec5f5-2fde-4ca9-9a2a-8bcb537acc66",
   "metadata": {},
   "outputs": [
    {
     "data": {
      "text/plain": [
       "True"
      ]
     },
     "execution_count": 181,
     "metadata": {},
     "output_type": "execute_result"
    }
   ],
   "source": [
    "1 in [1,2,3,4]"
   ]
  },
  {
   "cell_type": "code",
   "execution_count": 183,
   "id": "7efd28d2-894c-4cfe-af1b-b4837ff5080b",
   "metadata": {},
   "outputs": [
    {
     "data": {
      "text/plain": [
       "True"
      ]
     },
     "execution_count": 183,
     "metadata": {},
     "output_type": "execute_result"
    }
   ],
   "source": [
    "5 not in [1,2,3,4]\n",
    "# not 5 in [1,2,3,4]"
   ]
  },
  {
   "cell_type": "code",
   "execution_count": 191,
   "id": "a1a3c38e-2b05-4305-9ac8-fa32d9d4670c",
   "metadata": {},
   "outputs": [],
   "source": [
    "name.split('\\n')\n",
    "sentence = '''lots\n",
    "of 123 ugly\n",
    "lines 456\n",
    "in 789 this\n",
    "sentence'''"
   ]
  },
  {
   "cell_type": "code",
   "execution_count": 185,
   "id": "88f3bc3c-8fab-4df6-a916-22a4d71910c9",
   "metadata": {},
   "outputs": [
    {
     "data": {
      "text/plain": [
       "['lots', 'of ugly', 'lines', 'in this', 'sentence']"
      ]
     },
     "execution_count": 185,
     "metadata": {},
     "output_type": "execute_result"
    }
   ],
   "source": [
    "sentence.splitlines()"
   ]
  },
  {
   "cell_type": "markdown",
   "id": "21285185-bd68-401a-b46a-ade07b741de4",
   "metadata": {},
   "source": [
    "### Exercises\n",
    "\n",
    "1. Count number of words in the sentence\n",
    "2. Count of number of words in each line of a sentence\n",
    "3. Sum up numbers in a sentence\n",
    "4. Sum of squares of numbers from 1 to 10 (385)\n",
    "5. Sum of first 'n' odd numbers"
   ]
  },
  {
   "cell_type": "code",
   "execution_count": 186,
   "id": "f0c483aa-ae78-4150-abb6-65c91177bc89",
   "metadata": {},
   "outputs": [
    {
     "data": {
      "text/plain": [
       "7"
      ]
     },
     "execution_count": 186,
     "metadata": {},
     "output_type": "execute_result"
    }
   ],
   "source": [
    "len(sentence.split())"
   ]
  },
  {
   "cell_type": "code",
   "execution_count": 188,
   "id": "49cad5f5-370b-42e5-b04a-7f123a66d9c4",
   "metadata": {},
   "outputs": [
    {
     "data": {
      "text/plain": [
       "[1, 2, 1, 2, 1]"
      ]
     },
     "execution_count": 188,
     "metadata": {},
     "output_type": "execute_result"
    }
   ],
   "source": [
    "wordlens = []\n",
    "for line in sentence.splitlines():\n",
    "    wordlens.append(len(line.split()))\n",
    "\n",
    "wordlens"
   ]
  },
  {
   "cell_type": "code",
   "execution_count": 189,
   "id": "4e99b434-ba99-4e11-8394-74af25c30f29",
   "metadata": {},
   "outputs": [
    {
     "data": {
      "text/plain": [
       "7"
      ]
     },
     "execution_count": 189,
     "metadata": {},
     "output_type": "execute_result"
    }
   ],
   "source": [
    "sum(wordlens)"
   ]
  },
  {
   "cell_type": "code",
   "execution_count": 192,
   "id": "a2f48347-e6f2-4e9a-a883-ea819c015319",
   "metadata": {},
   "outputs": [
    {
     "data": {
      "text/plain": [
       "1368"
      ]
     },
     "execution_count": 192,
     "metadata": {},
     "output_type": "execute_result"
    }
   ],
   "source": [
    "total = 0\n",
    "\n",
    "for line in sentence.splitlines():\n",
    "    for word in line.split():\n",
    "        if word.isdigit():\n",
    "            total += int(word)\n",
    "\n",
    "total"
   ]
  },
  {
   "cell_type": "code",
   "execution_count": 193,
   "id": "1d3d7b6c-8a70-4757-b7cd-32a9c0b7fe82",
   "metadata": {},
   "outputs": [
    {
     "data": {
      "text/plain": [
       "1368"
      ]
     },
     "execution_count": 193,
     "metadata": {},
     "output_type": "execute_result"
    }
   ],
   "source": [
    "# Same solution as above, with one less loop\n",
    "\n",
    "total = 0\n",
    "\n",
    "for word in sentence.split():\n",
    "    if word.isdigit():\n",
    "        total += int(word)\n",
    "\n",
    "total"
   ]
  },
  {
   "cell_type": "code",
   "execution_count": 194,
   "id": "d8fb8643-fb65-4011-8a03-dfbe3d20a03b",
   "metadata": {},
   "outputs": [
    {
     "name": "stdout",
     "output_type": "stream",
     "text": [
      "The Zen of Python, by Tim Peters\n",
      "\n",
      "Beautiful is better than ugly.\n",
      "Explicit is better than implicit.\n",
      "Simple is better than complex.\n",
      "Complex is better than complicated.\n",
      "Flat is better than nested.\n",
      "Sparse is better than dense.\n",
      "Readability counts.\n",
      "Special cases aren't special enough to break the rules.\n",
      "Although practicality beats purity.\n",
      "Errors should never pass silently.\n",
      "Unless explicitly silenced.\n",
      "In the face of ambiguity, refuse the temptation to guess.\n",
      "There should be one-- and preferably only one --obvious way to do it.\n",
      "Although that way may not be obvious at first unless you're Dutch.\n",
      "Now is better than never.\n",
      "Although never is often better than *right* now.\n",
      "If the implementation is hard to explain, it's a bad idea.\n",
      "If the implementation is easy to explain, it may be a good idea.\n",
      "Namespaces are one honking great idea -- let's do more of those!\n"
     ]
    }
   ],
   "source": [
    "import this"
   ]
  },
  {
   "cell_type": "code",
   "execution_count": 195,
   "id": "808a0b70-e52d-4406-ba1c-bfa821cedc38",
   "metadata": {},
   "outputs": [
    {
     "data": {
      "text/plain": [
       "385"
      ]
     },
     "execution_count": 195,
     "metadata": {},
     "output_type": "execute_result"
    }
   ],
   "source": [
    "sumofsqs = 0\n",
    "for num in range(1, 11):\n",
    "    sumofsqs += num ** 2\n",
    "\n",
    "sumofsqs"
   ]
  },
  {
   "cell_type": "code",
   "execution_count": null,
   "id": "d2f766e0-5e8c-4a7e-8282-5f0096301195",
   "metadata": {},
   "outputs": [],
   "source": [
    "for (i=0; i<10; i++)"
   ]
  },
  {
   "cell_type": "code",
   "execution_count": null,
   "id": "cc74128d-469c-435b-9697-90c453bf41aa",
   "metadata": {},
   "outputs": [],
   "source": [
    "while i<10:\n",
    "    i += 1"
   ]
  },
  {
   "cell_type": "code",
   "execution_count": 196,
   "id": "f1a87665-a1ea-494c-9c97-fa8b4e1794a4",
   "metadata": {},
   "outputs": [
    {
     "name": "stdout",
     "output_type": "stream",
     "text": [
      "Hello!\n",
      "Hello!\n",
      "Hello!\n",
      "Hello!\n",
      "Hello!\n"
     ]
    }
   ],
   "source": [
    "for i in range(5):\n",
    "    print('Hello!')"
   ]
  },
  {
   "cell_type": "code",
   "execution_count": null,
   "id": "52f6c663-6803-4d0b-908c-6593f6dcd7ca",
   "metadata": {},
   "outputs": [],
   "source": [
    "1\n",
    "1+3\n",
    "1+3+5\n",
    "1+3+5+7"
   ]
  },
  {
   "cell_type": "code",
   "execution_count": 200,
   "id": "55907320-00dc-482c-baae-d742ca9ddb24",
   "metadata": {},
   "outputs": [
    {
     "data": {
      "text/plain": [
       "225"
      ]
     },
     "execution_count": 200,
     "metadata": {},
     "output_type": "execute_result"
    }
   ],
   "source": [
    "n = 15\n",
    "sumofodds = 0\n",
    "for num in range(1, 2*n, 2):\n",
    "    sumofodds += num\n",
    "\n",
    "sumofodds"
   ]
  },
  {
   "cell_type": "code",
   "execution_count": null,
   "id": "78855c7b-2645-4e99-b748-c24bd210834b",
   "metadata": {},
   "outputs": [],
   "source": []
  },
  {
   "cell_type": "code",
   "execution_count": null,
   "id": "d50cda42-8b48-4cbb-83a1-97b6ffddeb80",
   "metadata": {},
   "outputs": [],
   "source": []
  }
 ],
 "metadata": {
  "kernelspec": {
   "display_name": "Python 3 (ipykernel)",
   "language": "python",
   "name": "python3"
  },
  "language_info": {
   "codemirror_mode": {
    "name": "ipython",
    "version": 3
   },
   "file_extension": ".py",
   "mimetype": "text/x-python",
   "name": "python",
   "nbconvert_exporter": "python",
   "pygments_lexer": "ipython3",
   "version": "3.11.0"
  }
 },
 "nbformat": 4,
 "nbformat_minor": 5
}
