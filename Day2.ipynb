{
 "cells": [
  {
   "cell_type": "markdown",
   "id": "98e98730-7e70-47c7-b159-70b0407a9e61",
   "metadata": {},
   "source": [
    "## Lookup"
   ]
  },
  {
   "cell_type": "code",
   "execution_count": 202,
   "id": "f70fd1cf-166a-4ff4-8131-295b54c3c1b5",
   "metadata": {},
   "outputs": [],
   "source": [
    "items =  ['bread', 'butter', 'jam', 'eggs', 'milk', 'maggi', 'coffee']\n",
    "prices = [55,      75,       125,   7,      28,     14,      330]\n",
    "quants = [1,       1,        1,     6,      2,      6,       1]"
   ]
  },
  {
   "cell_type": "code",
   "execution_count": 203,
   "id": "abf89880-0a7c-4310-a7ca-c703300a84d3",
   "metadata": {},
   "outputs": [
    {
     "name": "stdin",
     "output_type": "stream",
     "text": [
      "Enter item of price lookup:  eggs\n"
     ]
    }
   ],
   "source": [
    "item = input('Enter item of price lookup: ')"
   ]
  },
  {
   "cell_type": "code",
   "execution_count": 204,
   "id": "c5a1c2f5-4fd4-473b-9a8c-b96c0428ba46",
   "metadata": {},
   "outputs": [
    {
     "data": {
      "text/plain": [
       "3"
      ]
     },
     "execution_count": 204,
     "metadata": {},
     "output_type": "execute_result"
    }
   ],
   "source": [
    "items.index(item)"
   ]
  },
  {
   "cell_type": "code",
   "execution_count": 205,
   "id": "20f95a2f-a341-412c-9c26-e1498ada8de7",
   "metadata": {},
   "outputs": [
    {
     "data": {
      "text/plain": [
       "7"
      ]
     },
     "execution_count": 205,
     "metadata": {},
     "output_type": "execute_result"
    }
   ],
   "source": [
    "prices[3]"
   ]
  },
  {
   "cell_type": "code",
   "execution_count": 209,
   "id": "b57d121b-0919-4613-a162-ee79170b048c",
   "metadata": {},
   "outputs": [
    {
     "name": "stdin",
     "output_type": "stream",
     "text": [
      "Enter item of price lookup:  jelly\n"
     ]
    },
    {
     "name": "stdout",
     "output_type": "stream",
     "text": [
      "jelly not found!\n"
     ]
    }
   ],
   "source": [
    "item = input('Enter item of price lookup: ')\n",
    "if item in items:\n",
    "    idx = items.index(item)\n",
    "    print(prices[idx])\n",
    "else:\n",
    "    print(item, 'not found!')"
   ]
  },
  {
   "cell_type": "markdown",
   "id": "28f69a4e-d402-4299-9123-1b683edb2817",
   "metadata": {},
   "source": [
    "## Dictionaries\n",
    "\n",
    "- Lookup (optimized)\n",
    "- Key-value store"
   ]
  },
  {
   "cell_type": "code",
   "execution_count": 217,
   "id": "e1a62115-e98c-49a2-8a2e-2672abb27c6d",
   "metadata": {},
   "outputs": [],
   "source": [
    "ages = {'Skippy': 101, 'Jumpy': 102, 'Bashful': 99}"
   ]
  },
  {
   "cell_type": "code",
   "execution_count": 211,
   "id": "24e407cc-8b30-4a1d-a068-45535e30ac36",
   "metadata": {},
   "outputs": [
    {
     "data": {
      "text/plain": [
       "dict"
      ]
     },
     "execution_count": 211,
     "metadata": {},
     "output_type": "execute_result"
    }
   ],
   "source": [
    "type(ages)"
   ]
  },
  {
   "cell_type": "code",
   "execution_count": 212,
   "id": "9e7b018a-c543-40ea-8d04-bc413c192141",
   "metadata": {},
   "outputs": [
    {
     "data": {
      "text/plain": [
       "101"
      ]
     },
     "execution_count": 212,
     "metadata": {},
     "output_type": "execute_result"
    }
   ],
   "source": [
    "ages['Skippy']"
   ]
  },
  {
   "cell_type": "code",
   "execution_count": 213,
   "id": "7aec4776-aaab-44fc-be2e-a9dc2de3102c",
   "metadata": {},
   "outputs": [
    {
     "ename": "KeyError",
     "evalue": "'Sleepy'",
     "output_type": "error",
     "traceback": [
      "\u001b[0;31m---------------------------------------------------------------------------\u001b[0m",
      "\u001b[0;31mKeyError\u001b[0m                                  Traceback (most recent call last)",
      "Cell \u001b[0;32mIn[213], line 1\u001b[0m\n\u001b[0;32m----> 1\u001b[0m ages[\u001b[38;5;124m'\u001b[39m\u001b[38;5;124mSleepy\u001b[39m\u001b[38;5;124m'\u001b[39m]\n",
      "\u001b[0;31mKeyError\u001b[0m: 'Sleepy'"
     ]
    }
   ],
   "source": [
    "ages['Sleepy']"
   ]
  },
  {
   "cell_type": "code",
   "execution_count": 231,
   "id": "3f7458d9-00a9-435c-9d5f-f2251cd7fb4d",
   "metadata": {},
   "outputs": [],
   "source": [
    "ages['Sleepy'] = 104"
   ]
  },
  {
   "cell_type": "code",
   "execution_count": 215,
   "id": "e34140e8-d90b-49cb-a28a-4e6895355bfa",
   "metadata": {},
   "outputs": [
    {
     "data": {
      "text/plain": [
       "{'Skippy': 101, 'Jumpy': 102, 'Bashful': 99, 'Sleepy': 104}"
      ]
     },
     "execution_count": 215,
     "metadata": {},
     "output_type": "execute_result"
    }
   ],
   "source": [
    "ages"
   ]
  },
  {
   "cell_type": "code",
   "execution_count": 218,
   "id": "f9f31451-74ff-4dbe-beca-2a3ae419fa22",
   "metadata": {},
   "outputs": [],
   "source": [
    "squares = {1:1, 2:4, 3:9}"
   ]
  },
  {
   "cell_type": "code",
   "execution_count": 219,
   "id": "061753c3-a663-46ad-8dab-8458cecc89ca",
   "metadata": {},
   "outputs": [
    {
     "data": {
      "text/plain": [
       "4"
      ]
     },
     "execution_count": 219,
     "metadata": {},
     "output_type": "execute_result"
    }
   ],
   "source": [
    "squares[2]"
   ]
  },
  {
   "cell_type": "code",
   "execution_count": 221,
   "id": "887e963d-a0cd-4dc9-8d38-2cc76c9fe888",
   "metadata": {},
   "outputs": [],
   "source": [
    "wordsbylen = {1: 'a', 2: 'of', 3: 'and', 2: 'on'}\n",
    "# wordsbylen = {1:  ['a'], 2: ['of', 'on'], 3: ['and']}"
   ]
  },
  {
   "cell_type": "code",
   "execution_count": 222,
   "id": "a700e3d6-9427-44be-bde2-8b266e3a3515",
   "metadata": {},
   "outputs": [
    {
     "data": {
      "text/plain": [
       "{1: 'a', 2: 'on', 3: 'and'}"
      ]
     },
     "execution_count": 222,
     "metadata": {},
     "output_type": "execute_result"
    }
   ],
   "source": [
    "wordsbylen"
   ]
  },
  {
   "cell_type": "code",
   "execution_count": 223,
   "id": "ffbdaa42-cb47-4ac6-a9ce-a164c7808f97",
   "metadata": {},
   "outputs": [
    {
     "data": {
      "text/plain": [
       "dict_keys(['Skippy', 'Jumpy', 'Bashful'])"
      ]
     },
     "execution_count": 223,
     "metadata": {},
     "output_type": "execute_result"
    }
   ],
   "source": [
    "ages.keys()"
   ]
  },
  {
   "cell_type": "code",
   "execution_count": 224,
   "id": "313b6949-5973-4a14-8ce7-a0349f2d2dd4",
   "metadata": {},
   "outputs": [
    {
     "data": {
      "text/plain": [
       "dict_values([101, 102, 99])"
      ]
     },
     "execution_count": 224,
     "metadata": {},
     "output_type": "execute_result"
    }
   ],
   "source": [
    "ages.values()"
   ]
  },
  {
   "cell_type": "code",
   "execution_count": 228,
   "id": "2026b1b5-def2-498b-a26d-16663936f39a",
   "metadata": {},
   "outputs": [
    {
     "data": {
      "text/plain": [
       "dict_items([('Skippy', 101), ('Jumpy', 102), ('Bashful', 99)])"
      ]
     },
     "execution_count": 228,
     "metadata": {},
     "output_type": "execute_result"
    }
   ],
   "source": [
    "ages.items()"
   ]
  },
  {
   "cell_type": "code",
   "execution_count": 229,
   "id": "c06d4515-c516-44ff-8065-c08c9b7ec628",
   "metadata": {},
   "outputs": [
    {
     "data": {
      "text/plain": [
       "{'Skippy': 101, 'Jumpy': 102, 'Bashful': 99, 'Abc': 11, 'Pqr': 21}"
      ]
     },
     "execution_count": 229,
     "metadata": {},
     "output_type": "execute_result"
    }
   ],
   "source": [
    "ages.update({'Abc': 11, 'Pqr': 21})\n",
    "ages"
   ]
  },
  {
   "cell_type": "code",
   "execution_count": 232,
   "id": "32f5a2dc-be29-478c-8d20-9e8498a8484a",
   "metadata": {},
   "outputs": [
    {
     "data": {
      "text/plain": [
       "104"
      ]
     },
     "execution_count": 232,
     "metadata": {},
     "output_type": "execute_result"
    }
   ],
   "source": [
    "ages.get('Sleepy')"
   ]
  },
  {
   "cell_type": "code",
   "execution_count": 236,
   "id": "f8109467-d75a-438f-b5db-cf5eb6f7e7c4",
   "metadata": {},
   "outputs": [
    {
     "data": {
      "text/plain": [
       "0"
      ]
     },
     "execution_count": 236,
     "metadata": {},
     "output_type": "execute_result"
    }
   ],
   "source": [
    "# ages['Xyz']\n",
    "ages.get('Xyz', 0)"
   ]
  },
  {
   "cell_type": "code",
   "execution_count": 243,
   "id": "68188cbe-f58c-4a67-b0f9-e08c7b23129a",
   "metadata": {},
   "outputs": [
    {
     "name": "stdout",
     "output_type": "stream",
     "text": [
      "Skippy 101\n",
      "Jumpy 102\n",
      "Bashful 99\n",
      "Abc 11\n",
      "Pqr 21\n",
      "Sleepy 104\n"
     ]
    }
   ],
   "source": [
    "for k,v in ages.items():\n",
    "    print(k, v)"
   ]
  },
  {
   "cell_type": "code",
   "execution_count": 237,
   "id": "12e4be41-b18a-48db-8d99-dfe9ecba3dd6",
   "metadata": {},
   "outputs": [],
   "source": [
    "i = 1\n",
    "j = 2"
   ]
  },
  {
   "cell_type": "code",
   "execution_count": 241,
   "id": "12dd531e-eb67-4a83-9bb3-fb43b2b333c1",
   "metadata": {},
   "outputs": [
    {
     "ename": "ValueError",
     "evalue": "not enough values to unpack (expected 3, got 2)",
     "output_type": "error",
     "traceback": [
      "\u001b[0;31m---------------------------------------------------------------------------\u001b[0m",
      "\u001b[0;31mValueError\u001b[0m                                Traceback (most recent call last)",
      "Cell \u001b[0;32mIn[241], line 1\u001b[0m\n\u001b[0;32m----> 1\u001b[0m i, j, k \u001b[38;5;241m=\u001b[39m \u001b[38;5;241m1\u001b[39m, \u001b[38;5;241m2\u001b[39m\n",
      "\u001b[0;31mValueError\u001b[0m: not enough values to unpack (expected 3, got 2)"
     ]
    }
   ],
   "source": [
    "i, j, k = 1, 2"
   ]
  },
  {
   "cell_type": "code",
   "execution_count": 242,
   "id": "0cc196df-6d63-4663-962c-2e05f1ba890f",
   "metadata": {},
   "outputs": [],
   "source": [
    "i, j = 1, 2"
   ]
  },
  {
   "cell_type": "code",
   "execution_count": null,
   "id": "f15ea387-f46f-42fc-9155-76679640aebc",
   "metadata": {},
   "outputs": [],
   "source": [
    "items =  ['bread', 'butter', 'jam', 'eggs', 'milk', 'maggi', 'coffee']\n",
    "prices = [55,      75,       125,   7,      28,     14,      330]"
   ]
  },
  {
   "cell_type": "code",
   "execution_count": null,
   "id": "a93cfe1e-a9f9-4878-9096-ba93b5394b4c",
   "metadata": {},
   "outputs": [],
   "source": [
    "{'bread': 55, 'butter': 75, "
   ]
  },
  {
   "cell_type": "code",
   "execution_count": 245,
   "id": "89c793ed-8823-4d71-a145-7a8842333fcf",
   "metadata": {},
   "outputs": [
    {
     "data": {
      "text/plain": [
       "{'bread': 55,\n",
       " 'butter': 75,\n",
       " 'jam': 125,\n",
       " 'eggs': 7,\n",
       " 'milk': 28,\n",
       " 'maggi': 14,\n",
       " 'coffee': 330}"
      ]
     },
     "execution_count": 245,
     "metadata": {},
     "output_type": "execute_result"
    }
   ],
   "source": [
    "itemdict = {}\n",
    "\n",
    "for i in range(len(items)):\n",
    "    itemdict[items[i]] = prices[i]\n",
    "\n",
    "itemdict"
   ]
  },
  {
   "cell_type": "code",
   "execution_count": 248,
   "id": "afda7255-4d43-465a-9edf-e32a628b3e82",
   "metadata": {},
   "outputs": [
    {
     "data": {
      "text/plain": [
       "[('bread', 55),\n",
       " ('butter', 75),\n",
       " ('jam', 125),\n",
       " ('eggs', 7),\n",
       " ('milk', 28),\n",
       " ('maggi', 14),\n",
       " ('coffee', 330)]"
      ]
     },
     "execution_count": 248,
     "metadata": {},
     "output_type": "execute_result"
    }
   ],
   "source": [
    "list(zip(items, prices))"
   ]
  },
  {
   "cell_type": "code",
   "execution_count": 251,
   "id": "971698e8-4f0a-4f70-8de7-a272d6b2d237",
   "metadata": {},
   "outputs": [],
   "source": [
    "itemdict = {}\n",
    "\n",
    "for item, price in zip(items, prices):\n",
    "    itemdict[item] = price"
   ]
  },
  {
   "cell_type": "code",
   "execution_count": 252,
   "id": "4e33bf07-dafe-459e-9368-cbcb5ad68b77",
   "metadata": {},
   "outputs": [
    {
     "data": {
      "text/plain": [
       "7"
      ]
     },
     "execution_count": 252,
     "metadata": {},
     "output_type": "execute_result"
    }
   ],
   "source": [
    "itemdict['eggs']"
   ]
  },
  {
   "cell_type": "code",
   "execution_count": 253,
   "id": "20312f3f-bc10-485e-916a-78daed762115",
   "metadata": {},
   "outputs": [
    {
     "data": {
      "text/plain": [
       "'Not present!'"
      ]
     },
     "execution_count": 253,
     "metadata": {},
     "output_type": "execute_result"
    }
   ],
   "source": [
    "itemdict.get('jelly', 'Not present!')"
   ]
  },
  {
   "cell_type": "code",
   "execution_count": null,
   "id": "f4d802ac-acc6-449d-93ec-5821acf025bd",
   "metadata": {},
   "outputs": [],
   "source": [
    "squares = {1: 1, 2:4, 3: 9, ..."
   ]
  },
  {
   "cell_type": "code",
   "execution_count": null,
   "id": "bab10ba5-83dd-4de7-ab50-67ed8045a110",
   "metadata": {},
   "outputs": [],
   "source": [
    "sentence = 'The QUICK brown Fox'"
   ]
  },
  {
   "cell_type": "code",
   "execution_count": null,
   "id": "88f3743f-d1c3-4ceb-b1a7-d0a28ab15f21",
   "metadata": {},
   "outputs": [],
   "source": [
    "{'the': 3, 'quick': 5, 'brown': 5, "
   ]
  },
  {
   "cell_type": "markdown",
   "id": "ff4fc2d7-847a-48f6-a4fb-da15d3fcc797",
   "metadata": {},
   "source": [
    "### Memory, references, shallow/deep copy"
   ]
  },
  {
   "cell_type": "code",
   "execution_count": 254,
   "id": "b7b77ef7-9433-4c55-a23a-3faa709da023",
   "metadata": {},
   "outputs": [
    {
     "data": {
      "text/plain": [
       "[1, 2, 3, 4, 5]"
      ]
     },
     "execution_count": 254,
     "metadata": {},
     "output_type": "execute_result"
    }
   ],
   "source": [
    "nums = [1,2,3,4]\n",
    "nums2 = nums   # copy by reference: default\n",
    "\n",
    "nums.append(5)\n",
    "nums2"
   ]
  },
  {
   "cell_type": "code",
   "execution_count": 255,
   "id": "60d64037-0a62-49e9-a178-80b86be33864",
   "metadata": {},
   "outputs": [
    {
     "data": {
      "text/plain": [
       "4465748160"
      ]
     },
     "execution_count": 255,
     "metadata": {},
     "output_type": "execute_result"
    }
   ],
   "source": [
    "id(nums)"
   ]
  },
  {
   "cell_type": "code",
   "execution_count": 256,
   "id": "76e06a9d-f0dd-49f8-8fbd-f3d8d8732a69",
   "metadata": {},
   "outputs": [
    {
     "data": {
      "text/plain": [
       "4465748160"
      ]
     },
     "execution_count": 256,
     "metadata": {},
     "output_type": "execute_result"
    }
   ],
   "source": [
    "id(nums2)"
   ]
  },
  {
   "cell_type": "code",
   "execution_count": 257,
   "id": "58d450ce-1f64-47c1-8e51-34e9003e4dd6",
   "metadata": {},
   "outputs": [
    {
     "data": {
      "text/plain": [
       "[1, 2, 3, 4]"
      ]
     },
     "execution_count": 257,
     "metadata": {},
     "output_type": "execute_result"
    }
   ],
   "source": [
    "nums = [1,2,3,4]\n",
    "nums2 = nums.copy()   # copy by value: explicit\n",
    "\n",
    "nums.append(5)\n",
    "nums2"
   ]
  },
  {
   "cell_type": "code",
   "execution_count": 258,
   "id": "400a144f-12a0-4ac5-8f0b-241b85dbd175",
   "metadata": {},
   "outputs": [
    {
     "data": {
      "text/plain": [
       "4464308864"
      ]
     },
     "execution_count": 258,
     "metadata": {},
     "output_type": "execute_result"
    }
   ],
   "source": [
    "id(nums)"
   ]
  },
  {
   "cell_type": "code",
   "execution_count": 259,
   "id": "8dde917b-b0a7-4f4b-a19d-9b0f31f2457b",
   "metadata": {},
   "outputs": [
    {
     "data": {
      "text/plain": [
       "4463687552"
      ]
     },
     "execution_count": 259,
     "metadata": {},
     "output_type": "execute_result"
    }
   ],
   "source": [
    "id(nums2)"
   ]
  },
  {
   "cell_type": "code",
   "execution_count": 260,
   "id": "9de2cd80-39b4-4bec-9462-460fd23f1cbb",
   "metadata": {},
   "outputs": [],
   "source": [
    "name = 'Gandhi'"
   ]
  },
  {
   "cell_type": "code",
   "execution_count": 261,
   "id": "d4298f99-cb87-41fa-9184-d747db990e6a",
   "metadata": {},
   "outputs": [
    {
     "data": {
      "text/plain": [
       "4464398128"
      ]
     },
     "execution_count": 261,
     "metadata": {},
     "output_type": "execute_result"
    }
   ],
   "source": [
    "id(name)"
   ]
  },
  {
   "cell_type": "code",
   "execution_count": 262,
   "id": "1792376b-342a-4ecf-97d9-c17eca2ce7a8",
   "metadata": {},
   "outputs": [],
   "source": [
    "name = name.upper()"
   ]
  },
  {
   "cell_type": "code",
   "execution_count": 263,
   "id": "ff38b890-4ad8-405a-88be-e2e9fb8cc8f6",
   "metadata": {},
   "outputs": [
    {
     "data": {
      "text/plain": [
       "4463844848"
      ]
     },
     "execution_count": 263,
     "metadata": {},
     "output_type": "execute_result"
    }
   ],
   "source": [
    "id(name)"
   ]
  },
  {
   "cell_type": "code",
   "execution_count": 264,
   "id": "21854f3f-c599-4e76-8ce0-68a88c442ca6",
   "metadata": {},
   "outputs": [],
   "source": [
    "name2 = name"
   ]
  },
  {
   "cell_type": "code",
   "execution_count": 265,
   "id": "549d295c-55ba-496a-a2b2-e12f8cabc5c6",
   "metadata": {},
   "outputs": [],
   "source": [
    "import copy"
   ]
  },
  {
   "cell_type": "code",
   "execution_count": 266,
   "id": "ea7f0c9f-dc0c-44ba-b729-b4c5b992eacc",
   "metadata": {},
   "outputs": [],
   "source": [
    "nums3 = nums"
   ]
  },
  {
   "cell_type": "code",
   "execution_count": 267,
   "id": "c93dac85-8a2d-45fa-a9bc-c6d96c03e0d6",
   "metadata": {},
   "outputs": [
    {
     "data": {
      "text/plain": [
       "True"
      ]
     },
     "execution_count": 267,
     "metadata": {},
     "output_type": "execute_result"
    }
   ],
   "source": [
    "nums3 is nums"
   ]
  },
  {
   "cell_type": "code",
   "execution_count": 268,
   "id": "d9dc945b-a8c0-40c1-96ad-ecc07f77bb37",
   "metadata": {},
   "outputs": [],
   "source": [
    "nums4 = nums.copy()"
   ]
  },
  {
   "cell_type": "code",
   "execution_count": 269,
   "id": "6ed2b6fe-c01a-4124-b555-53af8a8eecec",
   "metadata": {},
   "outputs": [
    {
     "data": {
      "text/plain": [
       "True"
      ]
     },
     "execution_count": 269,
     "metadata": {},
     "output_type": "execute_result"
    }
   ],
   "source": [
    "nums4 == nums"
   ]
  },
  {
   "cell_type": "code",
   "execution_count": 270,
   "id": "924897f2-9f8c-48b7-9127-65c3575ed006",
   "metadata": {},
   "outputs": [
    {
     "data": {
      "text/plain": [
       "False"
      ]
     },
     "execution_count": 270,
     "metadata": {},
     "output_type": "execute_result"
    }
   ],
   "source": [
    "nums4 is nums"
   ]
  },
  {
   "cell_type": "code",
   "execution_count": 271,
   "id": "0759b1a9-b94e-4082-a776-7b6ff5a66880",
   "metadata": {},
   "outputs": [
    {
     "ename": "TypeError",
     "evalue": "'>' not supported between instances of 'int' and 'str'",
     "output_type": "error",
     "traceback": [
      "\u001b[0;31m---------------------------------------------------------------------------\u001b[0m",
      "\u001b[0;31mTypeError\u001b[0m                                 Traceback (most recent call last)",
      "Cell \u001b[0;32mIn[271], line 1\u001b[0m\n\u001b[0;32m----> 1\u001b[0m \u001b[38;5;241m123\u001b[39m \u001b[38;5;241m>\u001b[39m \u001b[38;5;124m'\u001b[39m\u001b[38;5;124mabc\u001b[39m\u001b[38;5;124m'\u001b[39m\n",
      "\u001b[0;31mTypeError\u001b[0m: '>' not supported between instances of 'int' and 'str'"
     ]
    }
   ],
   "source": [
    "123 > 'abc'"
   ]
  },
  {
   "cell_type": "code",
   "execution_count": 272,
   "id": "b4349443-1f95-4aeb-bb9e-8b0a2695de12",
   "metadata": {},
   "outputs": [
    {
     "ename": "TypeError",
     "evalue": "'>' not supported between instances of 'list' and 'int'",
     "output_type": "error",
     "traceback": [
      "\u001b[0;31m---------------------------------------------------------------------------\u001b[0m",
      "\u001b[0;31mTypeError\u001b[0m                                 Traceback (most recent call last)",
      "Cell \u001b[0;32mIn[272], line 1\u001b[0m\n\u001b[0;32m----> 1\u001b[0m [\u001b[38;5;241m1\u001b[39m,\u001b[38;5;241m2\u001b[39m,\u001b[38;5;241m3\u001b[39m,\u001b[38;5;241m4\u001b[39m] \u001b[38;5;241m>\u001b[39m \u001b[38;5;241m3\u001b[39m\n",
      "\u001b[0;31mTypeError\u001b[0m: '>' not supported between instances of 'list' and 'int'"
     ]
    }
   ],
   "source": [
    "[1,2,3,4] > 3"
   ]
  },
  {
   "cell_type": "code",
   "execution_count": null,
   "id": "f6704b9c-5211-43f4-bbab-5c9f7fdf15f1",
   "metadata": {},
   "outputs": [],
   "source": [
    "[[1,2],[2,3],[4,5]] > [1,2,3,4,5]"
   ]
  },
  {
   "cell_type": "code",
   "execution_count": 273,
   "id": "ef558d4a-44c4-406f-88c0-36d4eb3f1031",
   "metadata": {},
   "outputs": [],
   "source": [
    "text = '''Lorem ipsum dolor sit amet, consectetur adipiscing elit, sed do eiusmod tempor incididunt ut labore et dolore magna aliqua. Ut enim ad minim veniam, quis nostrud exercitation ullamco laboris nisi ut aliquip ex ea commodo consequat. Duis aute irure dolor in reprehenderit in voluptate velit esse cillum dolore eu fugiat nulla pariatur. Excepteur sint occaecat cupidatat non proident, sunt in culpa qui officia deserunt mollit anim id est laborum.'''"
   ]
  },
  {
   "cell_type": "markdown",
   "id": "20a66f21-4359-4375-b0c2-97bb7ecb92c5",
   "metadata": {},
   "source": [
    "### Exercises\n",
    "\n",
    "1. Produce an output string that has only words of length 5 or more\n",
    "2. Count the frequency of words by word len: 1 - 2, 2 - 5, 3 - 11,\n",
    "3. Arrange words by lengths: 1: ... 2: ... 3: ..."
   ]
  },
  {
   "cell_type": "code",
   "execution_count": null,
   "id": "fe916607-a7d6-4de8-978f-eae526f21334",
   "metadata": {},
   "outputs": [],
   "source": [
    "{5: 3, 3: 1}"
   ]
  },
  {
   "cell_type": "code",
   "execution_count": 275,
   "id": "0a6f50d5-d80a-4371-8cfb-fec7196a9658",
   "metadata": {},
   "outputs": [
    {
     "data": {
      "text/plain": [
       "{5: 12, 3: 5, 11: 1, 10: 3, 2: 13, 7: 9, 6: 7, 4: 9, 12: 1, 13: 1, 9: 5, 8: 3}"
      ]
     },
     "execution_count": 275,
     "metadata": {},
     "output_type": "execute_result"
    }
   ],
   "source": [
    "counts = {}\n",
    "\n",
    "for word in text.split():\n",
    "    key = len(word)\n",
    "    if key not in counts:\n",
    "        counts[key] = 0\n",
    "    counts[key] += 1\n",
    "    # print(word, counts)\n",
    "\n",
    "counts"
   ]
  },
  {
   "cell_type": "code",
   "execution_count": 276,
   "id": "0850c02e-2bca-460f-bcd9-2ecef3550095",
   "metadata": {},
   "outputs": [],
   "source": [
    "counts = None"
   ]
  },
  {
   "cell_type": "code",
   "execution_count": 279,
   "id": "aeba468b-3100-4ea7-9e00-e960055f7090",
   "metadata": {},
   "outputs": [
    {
     "data": {
      "text/plain": [
       "{5: 12, 3: 5, 11: 1, 10: 3, 2: 13, 7: 9, 6: 7, 4: 9, 12: 1, 13: 1, 9: 5, 8: 3}"
      ]
     },
     "execution_count": 279,
     "metadata": {},
     "output_type": "execute_result"
    }
   ],
   "source": [
    "counts = {}\n",
    "\n",
    "for word in text.split():\n",
    "    key = len(word)\n",
    "    counts[key] = counts.get(key, 0) + 1\n",
    "    # print(word, counts)\n",
    "\n",
    "counts"
   ]
  },
  {
   "cell_type": "code",
   "execution_count": 278,
   "id": "78f7f064-9891-49e0-973e-f0c740aaee40",
   "metadata": {},
   "outputs": [
    {
     "ename": "TypeError",
     "evalue": "unsupported operand type(s) for +: 'NoneType' and 'int'",
     "output_type": "error",
     "traceback": [
      "\u001b[0;31m---------------------------------------------------------------------------\u001b[0m",
      "\u001b[0;31mTypeError\u001b[0m                                 Traceback (most recent call last)",
      "Cell \u001b[0;32mIn[278], line 1\u001b[0m\n\u001b[0;32m----> 1\u001b[0m \u001b[38;5;28;01mNone\u001b[39;00m \u001b[38;5;241m+\u001b[39m \u001b[38;5;241m1\u001b[39m\n",
      "\u001b[0;31mTypeError\u001b[0m: unsupported operand type(s) for +: 'NoneType' and 'int'"
     ]
    }
   ],
   "source": [
    "None + 1"
   ]
  },
  {
   "cell_type": "code",
   "execution_count": null,
   "id": "883772e3-428d-4b61-80ea-ada2b43cb531",
   "metadata": {},
   "outputs": [],
   "source": []
  },
  {
   "cell_type": "code",
   "execution_count": null,
   "id": "705091a9-51c8-4df9-afc7-3b2ba59803b7",
   "metadata": {},
   "outputs": [],
   "source": [
    "github.com/py-train/hsbc24"
   ]
  },
  {
   "cell_type": "code",
   "execution_count": 280,
   "id": "3f38452e-f0b8-4a82-982f-55770bb0aab4",
   "metadata": {},
   "outputs": [
    {
     "data": {
      "text/plain": [
       "'/Users/ashishgulati/Train/hsbc24'"
      ]
     },
     "execution_count": 280,
     "metadata": {},
     "output_type": "execute_result"
    }
   ],
   "source": [
    "%pwd"
   ]
  },
  {
   "cell_type": "code",
   "execution_count": null,
   "id": "9923cd78-fc6a-41dd-a79b-2b3e2a0563b7",
   "metadata": {},
   "outputs": [],
   "source": []
  }
 ],
 "metadata": {
  "kernelspec": {
   "display_name": "Python 3 (ipykernel)",
   "language": "python",
   "name": "python3"
  },
  "language_info": {
   "codemirror_mode": {
    "name": "ipython",
    "version": 3
   },
   "file_extension": ".py",
   "mimetype": "text/x-python",
   "name": "python",
   "nbconvert_exporter": "python",
   "pygments_lexer": "ipython3",
   "version": "3.11.0"
  }
 },
 "nbformat": 4,
 "nbformat_minor": 5
}
