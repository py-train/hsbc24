{
 "cells": [
  {
   "cell_type": "markdown",
   "id": "6180b851-0b62-4bba-86b6-006375eeeb9c",
   "metadata": {},
   "source": [
    "## Topic Gaps\n",
    "\n",
    "- Classes\n",
    "- ??exceptions??\n",
    "- numpy\n",
    "    - custom dtypes\n",
    "    - multi-dim\n",
    "    - arrays from files\n",
    "- pandas\n",
    "    - DF/Series by hand\n",
    "    - Reshaping: wide-to-long\n",
    "- matplotlib\n",
    "- Stats\n",
    "    - scipy.stats\n",
    "    - statsmodels\n",
    "- Functional Programming\n",
    "    - Comprehensions\n",
    "    - Lambdas\n",
    "    - Generators\n",
    "    - map-reduce-filter\n",
    "- Functions\n",
    "- Classes\n"
   ]
  },
  {
   "cell_type": "code",
   "execution_count": 1,
   "id": "15f50373-cde1-4cca-89e4-be2f453f9705",
   "metadata": {},
   "outputs": [],
   "source": [
    "import numpy as np"
   ]
  },
  {
   "cell_type": "code",
   "execution_count": 2,
   "id": "16a6f92d-5773-4912-9dbc-61d7038cf6bc",
   "metadata": {},
   "outputs": [
    {
     "data": {
      "text/plain": [
       "array([1, 2, 3, 4], dtype=int8)"
      ]
     },
     "execution_count": 2,
     "metadata": {},
     "output_type": "execute_result"
    }
   ],
   "source": [
    "arr = np.array([1,2,3,4], dtype=np.int8)\n",
    "arr"
   ]
  },
  {
   "cell_type": "code",
   "execution_count": 3,
   "id": "f98c5c5a-7087-4702-a951-b8c0038c7a53",
   "metadata": {},
   "outputs": [],
   "source": [
    "x = np.dtype(np.int8)"
   ]
  },
  {
   "cell_type": "code",
   "execution_count": 4,
   "id": "ab14fa21-8745-4d6d-9061-93a1de8e4363",
   "metadata": {},
   "outputs": [
    {
     "data": {
      "text/plain": [
       "array([1, 2, 3], dtype=int8)"
      ]
     },
     "execution_count": 4,
     "metadata": {},
     "output_type": "execute_result"
    }
   ],
   "source": [
    "arr1 = np.array([1,2,3], dtype=x)\n",
    "arr1"
   ]
  },
  {
   "cell_type": "code",
   "execution_count": 5,
   "id": "de8c5cee-1b81-420f-972b-6cb1817896a5",
   "metadata": {},
   "outputs": [],
   "source": [
    "empt = np.dtype([('name', 'S10'), ('id', '<i4')])"
   ]
  },
  {
   "cell_type": "code",
   "execution_count": 44,
   "id": "98d7fac2-a4f8-4aa2-a0a8-6978538cf4b0",
   "metadata": {},
   "outputs": [],
   "source": [
    "empts = np.dtype([('name', np.str_,8), ('id', '<i4')])"
   ]
  },
  {
   "cell_type": "code",
   "execution_count": 40,
   "id": "f5308d3b-8e08-4a10-8f74-956dd1c7312a",
   "metadata": {},
   "outputs": [],
   "source": [
    "empts = np.dtype([('name', np.unicode_,16), ('id', '<i4')])"
   ]
  },
  {
   "cell_type": "code",
   "execution_count": 6,
   "id": "9dee5cd1-44ac-451e-95e4-58df8ae18701",
   "metadata": {},
   "outputs": [
    {
     "data": {
      "text/plain": [
       "array([(b'gabbar', 101), (b'basanti', 202)],\n",
       "      dtype=[('name', 'S10'), ('id', '<i4')])"
      ]
     },
     "execution_count": 6,
     "metadata": {},
     "output_type": "execute_result"
    }
   ],
   "source": [
    "np.array([('gabbar', 101),('basanti',202)], dtype=empt)"
   ]
  },
  {
   "cell_type": "code",
   "execution_count": 45,
   "id": "439555a5-9c53-4330-a20b-476757779d14",
   "metadata": {},
   "outputs": [
    {
     "data": {
      "text/plain": [
       "array([('gabbar', 101), ('basanti', 202)],\n",
       "      dtype=[('name', '<U8'), ('id', '<i4')])"
      ]
     },
     "execution_count": 45,
     "metadata": {},
     "output_type": "execute_result"
    }
   ],
   "source": [
    "# !!!!!!!!!!!!!!!!!!!!\n",
    "arr = np.array([('gabbar', 101),('basanti',202)], dtype=empts)\n",
    "arr"
   ]
  },
  {
   "cell_type": "code",
   "execution_count": 27,
   "id": "7ffca25a-fd23-4d27-8077-d88191e4e2fa",
   "metadata": {},
   "outputs": [
    {
     "data": {
      "text/plain": [
       "('', 101)"
      ]
     },
     "execution_count": 27,
     "metadata": {},
     "output_type": "execute_result"
    }
   ],
   "source": [
    "arr[0]"
   ]
  },
  {
   "cell_type": "code",
   "execution_count": 7,
   "id": "c2322ab4-1885-4de3-9a62-1762ac63eeb7",
   "metadata": {},
   "outputs": [
    {
     "data": {
      "text/plain": [
       "0"
      ]
     },
     "execution_count": 7,
     "metadata": {},
     "output_type": "execute_result"
    }
   ],
   "source": [
    "np.int16(0)"
   ]
  },
  {
   "cell_type": "code",
   "execution_count": 34,
   "id": "c757470c-fe36-4ac7-86b0-8ef9579d2c64",
   "metadata": {},
   "outputs": [
    {
     "data": {
      "text/plain": [
       "'1.23.5'"
      ]
     },
     "execution_count": 34,
     "metadata": {},
     "output_type": "execute_result"
    }
   ],
   "source": [
    "np.__version__"
   ]
  },
  {
   "cell_type": "code",
   "execution_count": 32,
   "id": "afd46dee-7bc4-43ad-9140-00c8110d8d98",
   "metadata": {},
   "outputs": [
    {
     "data": {
      "text/plain": [
       "dtype([('name', 'S10'), ('id', '<i4')])"
      ]
     },
     "execution_count": 32,
     "metadata": {},
     "output_type": "execute_result"
    }
   ],
   "source": [
    "empt"
   ]
  },
  {
   "cell_type": "code",
   "execution_count": 33,
   "id": "3ea2a2fa-6bec-4540-aef7-53d5ee30105d",
   "metadata": {},
   "outputs": [
    {
     "ename": "TypeError",
     "evalue": "void() takes at most 1 argument (2 given)",
     "output_type": "error",
     "traceback": [
      "\u001b[0;31m---------------------------------------------------------------------------\u001b[0m",
      "\u001b[0;31mTypeError\u001b[0m                                 Traceback (most recent call last)",
      "Cell \u001b[0;32mIn[33], line 3\u001b[0m\n\u001b[1;32m      1\u001b[0m \u001b[38;5;66;03m# !!!!!!!!!!!!!!!!!!!!!\u001b[39;00m\n\u001b[1;32m      2\u001b[0m \u001b[38;5;66;03m# empt('gabbar', 101)\u001b[39;00m\n\u001b[0;32m----> 3\u001b[0m np\u001b[38;5;241m.\u001b[39mvoid([\u001b[38;5;124m'\u001b[39m\u001b[38;5;124mgabbar\u001b[39m\u001b[38;5;124m'\u001b[39m, \u001b[38;5;241m101\u001b[39m], dtype\u001b[38;5;241m=\u001b[39mempts)\n",
      "\u001b[0;31mTypeError\u001b[0m: void() takes at most 1 argument (2 given)"
     ]
    }
   ],
   "source": [
    "# !!!!!!!!!!!!!!!!!!!!!\n",
    "# empt('gabbar', 101)\n",
    "np.void(['gabbar', 101], dtype=empts)     # 1.26+"
   ]
  },
  {
   "cell_type": "code",
   "execution_count": 11,
   "id": "7488170b-56a0-4d5c-8f47-e77bc0d69bba",
   "metadata": {},
   "outputs": [
    {
     "data": {
      "text/plain": [
       "b'abcd'"
      ]
     },
     "execution_count": 11,
     "metadata": {},
     "output_type": "execute_result"
    }
   ],
   "source": [
    "data = b'abcd'\n",
    "data"
   ]
  },
  {
   "cell_type": "code",
   "execution_count": 12,
   "id": "012b7875-0365-4a5f-8306-e5c85a3a8a57",
   "metadata": {},
   "outputs": [
    {
     "data": {
      "text/plain": [
       "bytes"
      ]
     },
     "execution_count": 12,
     "metadata": {},
     "output_type": "execute_result"
    }
   ],
   "source": [
    "type(data)"
   ]
  },
  {
   "cell_type": "code",
   "execution_count": 13,
   "id": "e7f3196b-f7c3-454d-9646-e8143cf6d610",
   "metadata": {},
   "outputs": [
    {
     "data": {
      "text/plain": [
       "'61626364'"
      ]
     },
     "execution_count": 13,
     "metadata": {},
     "output_type": "execute_result"
    }
   ],
   "source": [
    "data.hex()"
   ]
  },
  {
   "cell_type": "code",
   "execution_count": 14,
   "id": "46da4436-85c7-4135-ab8b-cc0246284d36",
   "metadata": {},
   "outputs": [
    {
     "data": {
      "text/plain": [
       "'abcd'"
      ]
     },
     "execution_count": 14,
     "metadata": {},
     "output_type": "execute_result"
    }
   ],
   "source": [
    "data.decode()"
   ]
  },
  {
   "cell_type": "code",
   "execution_count": 15,
   "id": "0c7cb806-ec2e-4127-9c20-ba03ee25eb22",
   "metadata": {},
   "outputs": [
    {
     "data": {
      "text/plain": [
       "b'abcd'"
      ]
     },
     "execution_count": 15,
     "metadata": {},
     "output_type": "execute_result"
    }
   ],
   "source": [
    "'abcd'.encode()"
   ]
  },
  {
   "cell_type": "code",
   "execution_count": 46,
   "id": "83e483df-35b7-4109-8eb6-ec75d0a1ed0f",
   "metadata": {},
   "outputs": [
    {
     "data": {
      "text/plain": [
       "array([19.5959596, 19.6969697, 19.7979798, 19.8989899, 20.       ])"
      ]
     },
     "execution_count": 46,
     "metadata": {},
     "output_type": "execute_result"
    }
   ],
   "source": [
    "shape = (20,5)\n",
    "n = shape[0]*shape[1]\n",
    "arr = np.linspace(10,20,n)\n",
    "arr2d = arr.reshape(shape)\n",
    "arr2d.max(axis=0) "
   ]
  },
  {
   "cell_type": "code",
   "execution_count": null,
   "id": "965f38ec-e2dd-4930-b3f7-bf17a9b85a5b",
   "metadata": {},
   "outputs": [],
   "source": [
    "{\n",
    "    'a': (20,5),\n",
    "    'b': (1,5),\n",
    "    'c': (5,)\n",
    "    'd': (20,)\n",
    "}"
   ]
  },
  {
   "cell_type": "code",
   "execution_count": 50,
   "id": "4b9faeca-afdf-4b17-95a9-c51fd5539f06",
   "metadata": {},
   "outputs": [
    {
     "data": {
      "text/plain": [
       "array([10.4040404 , 10.90909091, 11.41414141, 11.91919192, 12.42424242,\n",
       "       12.92929293, 13.43434343, 13.93939394, 14.44444444, 14.94949495,\n",
       "       15.45454545, 15.95959596, 16.46464646, 16.96969697, 17.47474747,\n",
       "       17.97979798, 18.48484848, 18.98989899, 19.49494949, 20.        ])"
      ]
     },
     "execution_count": 50,
     "metadata": {},
     "output_type": "execute_result"
    }
   ],
   "source": [
    "arr2d[:,-1]"
   ]
  },
  {
   "cell_type": "code",
   "execution_count": 51,
   "id": "4899fa79-7e3e-4679-90f0-0a224584159f",
   "metadata": {},
   "outputs": [],
   "source": [
    "nums = [1,2,3,4]"
   ]
  },
  {
   "cell_type": "code",
   "execution_count": 55,
   "id": "e9249366-82bb-4361-b29c-2512ff5ac406",
   "metadata": {},
   "outputs": [
    {
     "data": {
      "text/plain": [
       "[]"
      ]
     },
     "execution_count": 55,
     "metadata": {},
     "output_type": "execute_result"
    }
   ],
   "source": [
    "nums[-1:]\n",
    "nums[100:]"
   ]
  },
  {
   "cell_type": "markdown",
   "id": "94c14238-be01-4866-98c3-6755c9cb3d95",
   "metadata": {},
   "source": [
    "## Matplotlib"
   ]
  },
  {
   "cell_type": "code",
   "execution_count": 56,
   "id": "ebf559ef-3c8b-4fc3-b9fe-c166e72b226b",
   "metadata": {},
   "outputs": [],
   "source": [
    "import matplotlib.pyplot as plt"
   ]
  },
  {
   "cell_type": "code",
   "execution_count": 107,
   "id": "aebf46ff-fd00-4add-a9e2-97d96a0f4a7b",
   "metadata": {},
   "outputs": [],
   "source": [
    "x = np.arange(100)\n",
    "y1 = x\n",
    "y2 = x**2 + x + 1"
   ]
  },
  {
   "cell_type": "code",
   "execution_count": 113,
   "id": "9395dc6c-4fad-4f4b-9644-478d9b5ff7c7",
   "metadata": {},
   "outputs": [
    {
     "data": {
      "image/png": "[encoded data removed]",
      "text/plain": [
       "<Figure size 640x480 with 1 Axes>"
      ]
     },
     "metadata": {},
     "output_type": "display_data"
    }
   ],
   "source": [
    "(y1ar,) = plt.plot(x,y1, '.-b')\n",
    "(y2ar,) = plt.plot(x,y2, linestyle='dashed', color='orange', linewidth=5)\n",
    "plt.xlabel('Values')\n",
    "plt.ylabel('Counts')\n",
    "plt.title('Line plot of ...')\n",
    "plt.legend(handles=[y1ar, y2ar], labels=['y1', 'y2'], loc='lower right')\n",
    "plt.show()"
   ]
  },
  {
   "cell_type": "code",
   "execution_count": 103,
   "id": "526d0cf9-44ae-4663-9f3c-79747e43dbbf",
   "metadata": {},
   "outputs": [
    {
     "data": {
      "image/png": "[encoded data removed]",
      "text/plain": [
       "<Figure size 640x480 with 1 Axes>"
      ]
     },
     "metadata": {},
     "output_type": "display_data"
    }
   ],
   "source": [
    "plt.plot(x,y1, label='y1')\n",
    "plt.plot(x,y2, label='y2')\n",
    "plt.xlabel('Values')\n",
    "plt.ylabel('Counts')\n",
    "plt.title('Line plot of ...')\n",
    "plt.legend()\n",
    "plt.show()"
   ]
  },
  {
   "cell_type": "code",
   "execution_count": 95,
   "id": "f905a851-6d0c-4b05-b8fd-a0f5909ef768",
   "metadata": {},
   "outputs": [
    {
     "data": {
      "text/plain": [
       "[<matplotlib.lines.Line2D at 0x146928290>]"
      ]
     },
     "execution_count": 95,
     "metadata": {},
     "output_type": "execute_result"
    }
   ],
   "source": [
    "y1ar"
   ]
  },
  {
   "cell_type": "code",
   "execution_count": 83,
   "id": "a17f9b67-df0b-4242-9254-47d06fb86ce4",
   "metadata": {},
   "outputs": [
    {
     "data": {
      "text/plain": [
       "[<matplotlib.lines.Line2D at 0x1467a8890>]"
      ]
     },
     "execution_count": 83,
     "metadata": {},
     "output_type": "execute_result"
    },
    {
     "data": {
      "image/png": "[encoded data removed]",
      "text/plain": [
       "<Figure size 1500x500 with 2 Axes>"
      ]
     },
     "metadata": {},
     "output_type": "display_data"
    }
   ],
   "source": [
    "fig = plt.figure(figsize=(15,5))\n",
    "ax1, ax2 = fig.subplots(1,2, sharey=True)\n",
    "ax1.plot(x,y1)\n",
    "ax2.plot(x,y2)"
   ]
  },
  {
   "cell_type": "code",
   "execution_count": 79,
   "id": "918bdb6a-d473-4161-b359-5e5c923013b0",
   "metadata": {},
   "outputs": [
    {
     "data": {
      "image/png": "[encoded data removed]",
      "text/plain": [
       "<Figure size 1500x500 with 4 Axes>"
      ]
     },
     "metadata": {},
     "output_type": "display_data"
    }
   ],
   "source": [
    "fig = plt.figure(figsize=(15,5))\n",
    "# axes = fig.subplots(2,2)\n",
    "(ax00, ax01), (ax10, ax11) = fig.subplots(2,2)\n"
   ]
  },
  {
   "cell_type": "code",
   "execution_count": 93,
   "id": "2b0e30eb-9f0f-4165-a2c3-d542e51c5b37",
   "metadata": {},
   "outputs": [],
   "source": [
    "(x,y) = [1,2]\n",
    "x, = [1]"
   ]
  },
  {
   "cell_type": "code",
   "execution_count": null,
   "id": "08c4899c-d73d-4c7c-be78-4c460d392a61",
   "metadata": {},
   "outputs": [],
   "source": [
    "(1+2)"
   ]
  },
  {
   "cell_type": "code",
   "execution_count": 114,
   "id": "557261ec-d20a-4e0b-a139-f48c8612a87e",
   "metadata": {},
   "outputs": [
    {
     "data": {
      "text/plain": [
       "['hello', 'world']"
      ]
     },
     "execution_count": 114,
     "metadata": {},
     "output_type": "execute_result"
    }
   ],
   "source": [
    "words = 'hello world'.split()\n",
    "words"
   ]
  },
  {
   "cell_type": "code",
   "execution_count": 116,
   "id": "b047ba95-a27e-4449-ac8a-46d4aa292e73",
   "metadata": {},
   "outputs": [],
   "source": [
    "words += 'in'"
   ]
  },
  {
   "cell_type": "code",
   "execution_count": 117,
   "id": "7f5f564a-fbb9-4956-af40-a46ff668ab8a",
   "metadata": {},
   "outputs": [
    {
     "data": {
      "text/plain": [
       "['hello', 'world', 'i', 'n']"
      ]
     },
     "execution_count": 117,
     "metadata": {},
     "output_type": "execute_result"
    }
   ],
   "source": [
    "words"
   ]
  },
  {
   "cell_type": "code",
   "execution_count": null,
   "id": "8d5d0e32-a33d-4d3b-8e67-517755cfb8fd",
   "metadata": {},
   "outputs": [],
   "source": [
    "# words.extend(['bye', 'cu'])\n",
    "words.extend('in')"
   ]
  },
  {
   "cell_type": "code",
   "execution_count": 115,
   "id": "f94d901d-7742-47d1-8d61-cbc210ffab43",
   "metadata": {},
   "outputs": [
    {
     "data": {
      "text/plain": [
       "['i', 'n']"
      ]
     },
     "execution_count": 115,
     "metadata": {},
     "output_type": "execute_result"
    }
   ],
   "source": [
    "list('in')"
   ]
  },
  {
   "cell_type": "markdown",
   "id": "37dd596e-4073-44a5-a89b-4b206140dc2b",
   "metadata": {},
   "source": [
    "### Classes"
   ]
  },
  {
   "cell_type": "code",
   "execution_count": 124,
   "id": "ad0ffbfe-0e79-44df-8afb-6770cc9ea822",
   "metadata": {},
   "outputs": [],
   "source": [
    "class Stack():\n",
    "     def __init__(self, data):\n",
    "         self.data = data\n",
    " \n",
    "     def push(self, d):\n",
    "         self.data.append(d)\n",
    " \n",
    "     def pop(self):\n",
    "         return self.data.pop()\n",
    "  \n",
    "s = Stack([1,2,3])\n"
   ]
  },
  {
   "cell_type": "code",
   "execution_count": 120,
   "id": "9856e809-77ce-4760-9749-14ea52bce9f1",
   "metadata": {},
   "outputs": [
    {
     "data": {
      "text/plain": [
       "type"
      ]
     },
     "execution_count": 120,
     "metadata": {},
     "output_type": "execute_result"
    }
   ],
   "source": [
    "type(Stack)"
   ]
  },
  {
   "cell_type": "code",
   "execution_count": 121,
   "id": "3dd6bc5a-8000-446c-944e-6ee4b2f4e9d8",
   "metadata": {},
   "outputs": [
    {
     "data": {
      "text/plain": [
       "type"
      ]
     },
     "execution_count": 121,
     "metadata": {},
     "output_type": "execute_result"
    }
   ],
   "source": [
    "type(list)"
   ]
  },
  {
   "cell_type": "code",
   "execution_count": 122,
   "id": "3064f465-6085-4236-b9a9-89aa70e954ca",
   "metadata": {},
   "outputs": [
    {
     "data": {
      "text/plain": [
       "type"
      ]
     },
     "execution_count": 122,
     "metadata": {},
     "output_type": "execute_result"
    }
   ],
   "source": [
    "type(type)"
   ]
  },
  {
   "cell_type": "code",
   "execution_count": 123,
   "id": "625d8375-c76f-4cd7-99ea-a73be5161eb9",
   "metadata": {},
   "outputs": [
    {
     "data": {
      "text/plain": [
       "__main__.Stack"
      ]
     },
     "execution_count": 123,
     "metadata": {},
     "output_type": "execute_result"
    }
   ],
   "source": [
    "type(s)"
   ]
  },
  {
   "cell_type": "code",
   "execution_count": 127,
   "id": "8f624a6e-a1db-4139-81af-93d9f93714e0",
   "metadata": {},
   "outputs": [
    {
     "ename": "TypeError",
     "evalue": "unhashable type: 'list'",
     "output_type": "error",
     "traceback": [
      "\u001b[0;31m---------------------------------------------------------------------------\u001b[0m",
      "\u001b[0;31mTypeError\u001b[0m                                 Traceback (most recent call last)",
      "Cell \u001b[0;32mIn[127], line 1\u001b[0m\n\u001b[0;32m----> 1\u001b[0m {\u001b[38;5;28;01mNone\u001b[39;00m: \u001b[38;5;241m1\u001b[39m, (\u001b[38;5;241m1\u001b[39m,\u001b[38;5;241m2\u001b[39m,\u001b[38;5;241m3\u001b[39m): \u001b[38;5;241m2\u001b[39m, [\u001b[38;5;241m1\u001b[39m,\u001b[38;5;241m2\u001b[39m,\u001b[38;5;241m3\u001b[39m]: \u001b[38;5;241m3\u001b[39m}\n",
      "\u001b[0;31mTypeError\u001b[0m: unhashable type: 'list'"
     ]
    }
   ],
   "source": [
    "{None: 1, (1,2,3): 2, [1,2,3]: 3}"
   ]
  },
  {
   "cell_type": "code",
   "execution_count": 128,
   "id": "0ff435a8-83df-4e19-b47e-428acdc13f64",
   "metadata": {},
   "outputs": [
    {
     "data": {
      "text/plain": [
       "{'': 1}"
      ]
     },
     "execution_count": 128,
     "metadata": {},
     "output_type": "execute_result"
    }
   ],
   "source": [
    "{'': 1}"
   ]
  },
  {
   "cell_type": "code",
   "execution_count": 130,
   "id": "3b22b466-e211-4eaf-a9fd-615b1f3a27ff",
   "metadata": {},
   "outputs": [
    {
     "data": {
      "text/plain": [
       "{nan: 1}"
      ]
     },
     "execution_count": 130,
     "metadata": {},
     "output_type": "execute_result"
    }
   ],
   "source": [
    "{np.nan: 1}"
   ]
  },
  {
   "cell_type": "code",
   "execution_count": 132,
   "id": "6a85221e-5286-47b0-a28c-9f744a1ec462",
   "metadata": {},
   "outputs": [
    {
     "data": {
      "text/plain": [
       "'l'"
      ]
     },
     "execution_count": 132,
     "metadata": {},
     "output_type": "execute_result"
    }
   ],
   "source": [
    "max('hellO')"
   ]
  },
  {
   "cell_type": "code",
   "execution_count": 138,
   "id": "80e85968-529e-459f-854d-6a09909edfe8",
   "metadata": {},
   "outputs": [
    {
     "ename": "TypeError",
     "evalue": "sum() can't sum bytes [use b''.join(seq) instead]",
     "output_type": "error",
     "traceback": [
      "\u001b[0;31m---------------------------------------------------------------------------\u001b[0m",
      "\u001b[0;31mTypeError\u001b[0m                                 Traceback (most recent call last)",
      "Cell \u001b[0;32mIn[138], line 1\u001b[0m\n\u001b[0;32m----> 1\u001b[0m \u001b[38;5;28msum\u001b[39m([\u001b[38;5;124mb\u001b[39m\u001b[38;5;124m'\u001b[39m\u001b[38;5;124mhello\u001b[39m\u001b[38;5;124m'\u001b[39m, \u001b[38;5;124mb\u001b[39m\u001b[38;5;124m'\u001b[39m\u001b[38;5;124mworld\u001b[39m\u001b[38;5;124m'\u001b[39m], start\u001b[38;5;241m=\u001b[39m\u001b[38;5;124mb\u001b[39m\u001b[38;5;124m'\u001b[39m\u001b[38;5;124m \u001b[39m\u001b[38;5;124m'\u001b[39m)\n",
      "\u001b[0;31mTypeError\u001b[0m: sum() can't sum bytes [use b''.join(seq) instead]"
     ]
    }
   ],
   "source": [
    "sum([b'hello', b'world'], start=b' ')"
   ]
  },
  {
   "cell_type": "code",
   "execution_count": 139,
   "id": "939a3b0d-54ca-4f78-aec3-44cbf5046b6f",
   "metadata": {},
   "outputs": [],
   "source": [
    "import pandas as pd"
   ]
  },
  {
   "cell_type": "code",
   "execution_count": 145,
   "id": "36b4ee17-b5e2-4127-8d95-43e655cf8be7",
   "metadata": {},
   "outputs": [
    {
     "data": {
      "text/plain": [
       "a    1\n",
       "b    2\n",
       "c    3\n",
       "d    4\n",
       "Name: hello, dtype: int64"
      ]
     },
     "execution_count": 145,
     "metadata": {},
     "output_type": "execute_result"
    }
   ],
   "source": [
    "pd.Series([1,2,3,4], name='hello', index=list('abcd'))"
   ]
  },
  {
   "cell_type": "code",
   "execution_count": 147,
   "id": "66385288-1078-43d5-a08f-b81bd153abaf",
   "metadata": {},
   "outputs": [
    {
     "data": {
      "text/plain": [
       "a    1\n",
       "b    2\n",
       "c    3\n",
       "d    4\n",
       "Name: hello, dtype: int64"
      ]
     },
     "execution_count": 147,
     "metadata": {},
     "output_type": "execute_result"
    }
   ],
   "source": [
    "s = pd.Series([1,2,3,4], name='hello')\n",
    "s.index = list('abcd')\n",
    "s"
   ]
  },
  {
   "cell_type": "code",
   "execution_count": 161,
   "id": "215db202-9aea-4a4a-a469-b7d77ede7c6c",
   "metadata": {},
   "outputs": [
    {
     "data": {
      "text/html": [
       "<div>\n",
       "<style scoped>\n",
       "    .dataframe tbody tr th:only-of-type {\n",
       "        vertical-align: middle;\n",
       "    }\n",
       "\n",
       "    .dataframe tbody tr th {\n",
       "        vertical-align: top;\n",
       "    }\n",
       "\n",
       "    .dataframe thead th {\n",
       "        text-align: right;\n",
       "    }\n",
       "</style>\n",
       "<table border=\"1\" class=\"dataframe\">\n",
       "  <thead>\n",
       "    <tr style=\"text-align: right;\">\n",
       "      <th></th>\n",
       "      <th>col2</th>\n",
       "    </tr>\n",
       "  </thead>\n",
       "  <tbody>\n",
       "    <tr>\n",
       "      <th>15</th>\n",
       "      <td>f</td>\n",
       "    </tr>\n",
       "    <tr>\n",
       "      <th>16</th>\n",
       "      <td>g</td>\n",
       "    </tr>\n",
       "    <tr>\n",
       "      <th>17</th>\n",
       "      <td>h</td>\n",
       "    </tr>\n",
       "    <tr>\n",
       "      <th>18</th>\n",
       "      <td>i</td>\n",
       "    </tr>\n",
       "    <tr>\n",
       "      <th>19</th>\n",
       "      <td>j</td>\n",
       "    </tr>\n",
       "  </tbody>\n",
       "</table>\n",
       "</div>"
      ],
      "text/plain": [
       "   col2\n",
       "15    f\n",
       "16    g\n",
       "17    h\n",
       "18    i\n",
       "19    j"
      ]
     },
     "execution_count": 161,
     "metadata": {},
     "output_type": "execute_result"
    }
   ],
   "source": [
    "df = pd.DataFrame({'col1': np.arange(10), 'col2': list('abcdefghij')}, index=np.arange(10,20))\n",
    "df.loc[15:, 'col2':]\n",
    "df.iloc[5:, -1:]"
   ]
  },
  {
   "cell_type": "code",
   "execution_count": 162,
   "id": "39694bcd-108e-4028-9ed7-a51d4a42e140",
   "metadata": {},
   "outputs": [
    {
     "data": {
      "text/html": [
       "<div>\n",
       "<style scoped>\n",
       "    .dataframe tbody tr th:only-of-type {\n",
       "        vertical-align: middle;\n",
       "    }\n",
       "\n",
       "    .dataframe tbody tr th {\n",
       "        vertical-align: top;\n",
       "    }\n",
       "\n",
       "    .dataframe thead th {\n",
       "        text-align: right;\n",
       "    }\n",
       "</style>\n",
       "<table border=\"1\" class=\"dataframe\">\n",
       "  <thead>\n",
       "    <tr style=\"text-align: right;\">\n",
       "      <th></th>\n",
       "      <th>col1</th>\n",
       "      <th>col2</th>\n",
       "    </tr>\n",
       "  </thead>\n",
       "  <tbody>\n",
       "    <tr>\n",
       "      <th>10</th>\n",
       "      <td>0</td>\n",
       "      <td>a</td>\n",
       "    </tr>\n",
       "    <tr>\n",
       "      <th>11</th>\n",
       "      <td>1</td>\n",
       "      <td>b</td>\n",
       "    </tr>\n",
       "    <tr>\n",
       "      <th>12</th>\n",
       "      <td>2</td>\n",
       "      <td>c</td>\n",
       "    </tr>\n",
       "    <tr>\n",
       "      <th>13</th>\n",
       "      <td>3</td>\n",
       "      <td>d</td>\n",
       "    </tr>\n",
       "    <tr>\n",
       "      <th>14</th>\n",
       "      <td>4</td>\n",
       "      <td>e</td>\n",
       "    </tr>\n",
       "    <tr>\n",
       "      <th>15</th>\n",
       "      <td>5</td>\n",
       "      <td>f</td>\n",
       "    </tr>\n",
       "    <tr>\n",
       "      <th>16</th>\n",
       "      <td>6</td>\n",
       "      <td>g</td>\n",
       "    </tr>\n",
       "    <tr>\n",
       "      <th>17</th>\n",
       "      <td>7</td>\n",
       "      <td>h</td>\n",
       "    </tr>\n",
       "    <tr>\n",
       "      <th>18</th>\n",
       "      <td>8</td>\n",
       "      <td>i</td>\n",
       "    </tr>\n",
       "    <tr>\n",
       "      <th>19</th>\n",
       "      <td>9</td>\n",
       "      <td>j</td>\n",
       "    </tr>\n",
       "  </tbody>\n",
       "</table>\n",
       "</div>"
      ],
      "text/plain": [
       "    col1 col2\n",
       "10     0    a\n",
       "11     1    b\n",
       "12     2    c\n",
       "13     3    d\n",
       "14     4    e\n",
       "15     5    f\n",
       "16     6    g\n",
       "17     7    h\n",
       "18     8    i\n",
       "19     9    j"
      ]
     },
     "execution_count": 162,
     "metadata": {},
     "output_type": "execute_result"
    }
   ],
   "source": [
    "df"
   ]
  },
  {
   "cell_type": "code",
   "execution_count": null,
   "id": "23059ab4-77b7-4d5c-88d1-a21c4f5dcf89",
   "metadata": {},
   "outputs": [],
   "source": [
    "df['abcd']"
   ]
  },
  {
   "cell_type": "code",
   "execution_count": null,
   "id": "0fcd2aae-cf06-40c1-a32a-c6813cc36b24",
   "metadata": {},
   "outputs": [],
   "source": []
  },
  {
   "cell_type": "code",
   "execution_count": null,
   "id": "ce4fb56e-6064-49cf-9f19-fd1d55a87ed4",
   "metadata": {},
   "outputs": [],
   "source": []
  }
 ],
 "metadata": {
  "kernelspec": {
   "display_name": "Python 3 (ipykernel)",
   "language": "python",
   "name": "python3"
  },
  "language_info": {
   "codemirror_mode": {
    "name": "ipython",
    "version": 3
   },
   "file_extension": ".py",
   "mimetype": "text/x-python",
   "name": "python",
   "nbconvert_exporter": "python",
   "pygments_lexer": "ipython3",
   "version": "3.11.0"
  }
 },
 "nbformat": 4,
 "nbformat_minor": 5
}
